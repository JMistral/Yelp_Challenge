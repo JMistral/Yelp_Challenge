{
 "cells": [
  {
   "cell_type": "markdown",
   "metadata": {},
   "source": [
    "# Yelp Data Challenge - Clustering and PCA"
   ]
  },
  {
   "cell_type": "code",
   "execution_count": 3,
   "metadata": {},
   "outputs": [],
   "source": [
    "import pandas as pd\n",
    "import numpy as np\n",
    "import matplotlib.pyplot as plt\n",
    "% matplotlib inline\n",
    "plt.style.use(\"ggplot\")"
   ]
  },
  {
   "cell_type": "code",
   "execution_count": 4,
   "metadata": {},
   "outputs": [],
   "source": [
    "df = pd.read_csv('../dataset/2016_restaurant_reviews.csv')"
   ]
  },
  {
   "cell_type": "code",
   "execution_count": 5,
   "metadata": {},
   "outputs": [
    {
     "data": {
      "text/html": [
       "<div>\n",
       "<style scoped>\n",
       "    .dataframe tbody tr th:only-of-type {\n",
       "        vertical-align: middle;\n",
       "    }\n",
       "\n",
       "    .dataframe tbody tr th {\n",
       "        vertical-align: top;\n",
       "    }\n",
       "\n",
       "    .dataframe thead th {\n",
       "        text-align: right;\n",
       "    }\n",
       "</style>\n",
       "<table border=\"1\" class=\"dataframe\">\n",
       "  <thead>\n",
       "    <tr style=\"text-align: right;\">\n",
       "      <th></th>\n",
       "      <th>business_id</th>\n",
       "      <th>name</th>\n",
       "      <th>categories</th>\n",
       "      <th>avg_stars</th>\n",
       "      <th>cool</th>\n",
       "      <th>date</th>\n",
       "      <th>funny</th>\n",
       "      <th>review_id</th>\n",
       "      <th>stars</th>\n",
       "      <th>text</th>\n",
       "      <th>useful</th>\n",
       "      <th>user_id</th>\n",
       "    </tr>\n",
       "  </thead>\n",
       "  <tbody>\n",
       "    <tr>\n",
       "      <th>0</th>\n",
       "      <td>--9e1ONYQuAa-CB_Rrw7Tw</td>\n",
       "      <td>Delmonico Steakhouse</td>\n",
       "      <td>['Cajun/Creole', 'Steakhouses', 'Restaurants']</td>\n",
       "      <td>4.0</td>\n",
       "      <td>0</td>\n",
       "      <td>2016-03-31</td>\n",
       "      <td>0</td>\n",
       "      <td>6SgvNWJltnZhW7duJgZ42w</td>\n",
       "      <td>5</td>\n",
       "      <td>This is mine and my fiancé's favorite steakhou...</td>\n",
       "      <td>0</td>\n",
       "      <td>oFyOUOeGTRZhFPF9uTqrTQ</td>\n",
       "    </tr>\n",
       "    <tr>\n",
       "      <th>1</th>\n",
       "      <td>--9e1ONYQuAa-CB_Rrw7Tw</td>\n",
       "      <td>Delmonico Steakhouse</td>\n",
       "      <td>['Cajun/Creole', 'Steakhouses', 'Restaurants']</td>\n",
       "      <td>4.0</td>\n",
       "      <td>0</td>\n",
       "      <td>2016-02-10</td>\n",
       "      <td>0</td>\n",
       "      <td>UxFpgng8dPMWOj99653k5Q</td>\n",
       "      <td>5</td>\n",
       "      <td>Truly Fantastic!  Best Steak ever. Service was...</td>\n",
       "      <td>0</td>\n",
       "      <td>aVOGlN9fZ-BXcbtj6dbf0g</td>\n",
       "    </tr>\n",
       "    <tr>\n",
       "      <th>2</th>\n",
       "      <td>--9e1ONYQuAa-CB_Rrw7Tw</td>\n",
       "      <td>Delmonico Steakhouse</td>\n",
       "      <td>['Cajun/Creole', 'Steakhouses', 'Restaurants']</td>\n",
       "      <td>4.0</td>\n",
       "      <td>0</td>\n",
       "      <td>2016-07-13</td>\n",
       "      <td>0</td>\n",
       "      <td>GN7KnAaxJDrYgfJzgsvmkA</td>\n",
       "      <td>5</td>\n",
       "      <td>We decided to give Delmonico's a try because w...</td>\n",
       "      <td>0</td>\n",
       "      <td>C6kw0Rny7jZAGjTj0MWA3Q</td>\n",
       "    </tr>\n",
       "    <tr>\n",
       "      <th>3</th>\n",
       "      <td>--9e1ONYQuAa-CB_Rrw7Tw</td>\n",
       "      <td>Delmonico Steakhouse</td>\n",
       "      <td>['Cajun/Creole', 'Steakhouses', 'Restaurants']</td>\n",
       "      <td>4.0</td>\n",
       "      <td>0</td>\n",
       "      <td>2016-04-01</td>\n",
       "      <td>0</td>\n",
       "      <td>i7xD3FY-EaF9O08QL69l5w</td>\n",
       "      <td>5</td>\n",
       "      <td>Absolutely impressed with this restaurant. The...</td>\n",
       "      <td>0</td>\n",
       "      <td>tTifjrXlRrUme-4c0UW9Bw</td>\n",
       "    </tr>\n",
       "    <tr>\n",
       "      <th>4</th>\n",
       "      <td>--9e1ONYQuAa-CB_Rrw7Tw</td>\n",
       "      <td>Delmonico Steakhouse</td>\n",
       "      <td>['Cajun/Creole', 'Steakhouses', 'Restaurants']</td>\n",
       "      <td>4.0</td>\n",
       "      <td>0</td>\n",
       "      <td>2016-10-15</td>\n",
       "      <td>0</td>\n",
       "      <td>ZqMUHOJg9lGOmfqQ7RXj7A</td>\n",
       "      <td>1</td>\n",
       "      <td>This was supposed to be a very special dinner ...</td>\n",
       "      <td>0</td>\n",
       "      <td>kOll36Me-rM9NsqoDnejKA</td>\n",
       "    </tr>\n",
       "  </tbody>\n",
       "</table>\n",
       "</div>"
      ],
      "text/plain": [
       "              business_id                  name  \\\n",
       "0  --9e1ONYQuAa-CB_Rrw7Tw  Delmonico Steakhouse   \n",
       "1  --9e1ONYQuAa-CB_Rrw7Tw  Delmonico Steakhouse   \n",
       "2  --9e1ONYQuAa-CB_Rrw7Tw  Delmonico Steakhouse   \n",
       "3  --9e1ONYQuAa-CB_Rrw7Tw  Delmonico Steakhouse   \n",
       "4  --9e1ONYQuAa-CB_Rrw7Tw  Delmonico Steakhouse   \n",
       "\n",
       "                                       categories  avg_stars  cool  \\\n",
       "0  ['Cajun/Creole', 'Steakhouses', 'Restaurants']        4.0     0   \n",
       "1  ['Cajun/Creole', 'Steakhouses', 'Restaurants']        4.0     0   \n",
       "2  ['Cajun/Creole', 'Steakhouses', 'Restaurants']        4.0     0   \n",
       "3  ['Cajun/Creole', 'Steakhouses', 'Restaurants']        4.0     0   \n",
       "4  ['Cajun/Creole', 'Steakhouses', 'Restaurants']        4.0     0   \n",
       "\n",
       "         date  funny               review_id  stars  \\\n",
       "0  2016-03-31      0  6SgvNWJltnZhW7duJgZ42w      5   \n",
       "1  2016-02-10      0  UxFpgng8dPMWOj99653k5Q      5   \n",
       "2  2016-07-13      0  GN7KnAaxJDrYgfJzgsvmkA      5   \n",
       "3  2016-04-01      0  i7xD3FY-EaF9O08QL69l5w      5   \n",
       "4  2016-10-15      0  ZqMUHOJg9lGOmfqQ7RXj7A      1   \n",
       "\n",
       "                                                text  useful  \\\n",
       "0  This is mine and my fiancé's favorite steakhou...       0   \n",
       "1  Truly Fantastic!  Best Steak ever. Service was...       0   \n",
       "2  We decided to give Delmonico's a try because w...       0   \n",
       "3  Absolutely impressed with this restaurant. The...       0   \n",
       "4  This was supposed to be a very special dinner ...       0   \n",
       "\n",
       "                  user_id  \n",
       "0  oFyOUOeGTRZhFPF9uTqrTQ  \n",
       "1  aVOGlN9fZ-BXcbtj6dbf0g  \n",
       "2  C6kw0Rny7jZAGjTj0MWA3Q  \n",
       "3  tTifjrXlRrUme-4c0UW9Bw  \n",
       "4  kOll36Me-rM9NsqoDnejKA  "
      ]
     },
     "execution_count": 5,
     "metadata": {},
     "output_type": "execute_result"
    }
   ],
   "source": [
    "df.head()"
   ]
  },
  {
   "cell_type": "markdown",
   "metadata": {},
   "source": [
    "## 1. Cluster the review text data for all the restaurants"
   ]
  },
  {
   "cell_type": "markdown",
   "metadata": {},
   "source": [
    "### Define your feature variables, here is the text of the review"
   ]
  },
  {
   "cell_type": "code",
   "execution_count": 6,
   "metadata": {},
   "outputs": [],
   "source": [
    "# Take the values of the column that contains review text data, save to a variable named \"documents\"\n",
    "documents = df.text.values"
   ]
  },
  {
   "cell_type": "markdown",
   "metadata": {},
   "source": [
    "### Define your target variable (any categorical variable that may be meaningful)"
   ]
  },
  {
   "cell_type": "markdown",
   "metadata": {},
   "source": [
    "#### For example, I am interested in perfect (5 stars) and imperfect (1-4 stars) rating"
   ]
  },
  {
   "cell_type": "code",
   "execution_count": 7,
   "metadata": {},
   "outputs": [
    {
     "name": "stderr",
     "output_type": "stream",
     "text": [
      "/Users/jessie/anaconda3/lib/python3.5/site-packages/ipykernel_launcher.py:2: UserWarning: Pandas doesn't allow columns to be created via a new attribute name - see https://pandas.pydata.org/pandas-docs/stable/indexing.html#attribute-access\n",
      "  \n"
     ]
    },
    {
     "data": {
      "text/plain": [
       "count    178080.000000\n",
       "mean          0.462809\n",
       "std           0.498616\n",
       "min           0.000000\n",
       "25%           0.000000\n",
       "50%           0.000000\n",
       "75%           1.000000\n",
       "max           1.000000\n",
       "Name: stars, dtype: float64"
      ]
     },
     "execution_count": 7,
     "metadata": {},
     "output_type": "execute_result"
    }
   ],
   "source": [
    "# Make a column and take the values, save to a variable named \"target\"\n",
    "df.target = df.stars.apply(lambda x: 1 if x > 4 else 0)\n",
    "df.target.describe()"
   ]
  },
  {
   "cell_type": "markdown",
   "metadata": {},
   "source": [
    "### Create training dataset and test dataset"
   ]
  },
  {
   "cell_type": "code",
   "execution_count": 8,
   "metadata": {},
   "outputs": [
    {
     "name": "stderr",
     "output_type": "stream",
     "text": [
      "/Users/jessie/anaconda3/lib/python3.5/site-packages/sklearn/cross_validation.py:41: DeprecationWarning: This module was deprecated in version 0.18 in favor of the model_selection module into which all the refactored classes and functions are moved. Also note that the interface of the new CV iterators are different from that of this module. This module will be removed in 0.20.\n",
      "  \"This module will be removed in 0.20.\", DeprecationWarning)\n"
     ]
    }
   ],
   "source": [
    "from sklearn.cross_validation import train_test_split"
   ]
  },
  {
   "cell_type": "code",
   "execution_count": 9,
   "metadata": {},
   "outputs": [],
   "source": [
    "# documents is your X, target is your y\n",
    "# Now split the data to training set and test set\n",
    "documents_train, documents_test, target_train, target_test = train_test_split(\n",
    "     documents, df.target, test_size=0.9, random_state=42)"
   ]
  },
  {
   "cell_type": "markdown",
   "metadata": {},
   "source": [
    "### Get NLP representation of the documents\n",
    "\n",
    "#### Fit TfidfVectorizer with training data only, then tranform all the data to tf-idf"
   ]
  },
  {
   "cell_type": "code",
   "execution_count": 10,
   "metadata": {},
   "outputs": [],
   "source": [
    "from sklearn.feature_extraction.text import TfidfVectorizer"
   ]
  },
  {
   "cell_type": "code",
   "execution_count": 11,
   "metadata": {},
   "outputs": [],
   "source": [
    "# Create TfidfVectorizer, and name it vectorizer, choose a reasonable max_features, e.g. 1000\n",
    "vectorizer = TfidfVectorizer(stop_words = 'english', max_features=1000)"
   ]
  },
  {
   "cell_type": "code",
   "execution_count": 12,
   "metadata": {},
   "outputs": [],
   "source": [
    "# Train the model with your training data\n",
    "vectorized_train = vectorizer.fit_transform(documents_train).toarray()"
   ]
  },
  {
   "cell_type": "code",
   "execution_count": 13,
   "metadata": {},
   "outputs": [],
   "source": [
    "# Get the vocab of your tfidf\n",
    "#vectorizer.vocabulary_\n",
    "vocab = vectorizer.get_feature_names()"
   ]
  },
  {
   "cell_type": "code",
   "execution_count": 14,
   "metadata": {},
   "outputs": [],
   "source": [
    "# Use the trained model to transform all the reviews\n",
    "reviews = vectorizer.transform(documents).toarray()"
   ]
  },
  {
   "cell_type": "markdown",
   "metadata": {},
   "source": [
    "### Cluster reviews with KMeans"
   ]
  },
  {
   "cell_type": "markdown",
   "metadata": {},
   "source": [
    "#### Fit k-means clustering with the training vectors and apply it on all the data"
   ]
  },
  {
   "cell_type": "code",
   "execution_count": 15,
   "metadata": {},
   "outputs": [
    {
     "data": {
      "text/plain": [
       "KMeans(algorithm='auto', copy_x=True, init='k-means++', max_iter=300,\n",
       "    n_clusters=8, n_init=10, n_jobs=1, precompute_distances='auto',\n",
       "    random_state=None, tol=0.0001, verbose=0)"
      ]
     },
     "execution_count": 15,
     "metadata": {},
     "output_type": "execute_result"
    }
   ],
   "source": [
    "from sklearn.cluster import KMeans\n",
    "kmeans = KMeans()\n",
    "kmeans.fit(vectorized_train)"
   ]
  },
  {
   "cell_type": "markdown",
   "metadata": {},
   "source": [
    "#### Make predictions on all your data"
   ]
  },
  {
   "cell_type": "code",
   "execution_count": 16,
   "metadata": {},
   "outputs": [],
   "source": [
    "cluster_pred = kmeans.predict(reviews)"
   ]
  },
  {
   "cell_type": "markdown",
   "metadata": {},
   "source": [
    "#### Inspect the centroids\n",
    "To find out what \"topics\" Kmeans has discovered we must inspect the centroids. Print out the centroids of the Kmeans clustering.\n",
    "\n",
    "   These centroids are simply a bunch of vectors.  To make any sense of them we need to map these vectors back into our 'word space'.  Think of each feature/dimension of the centroid vector as representing the \"average\" review or the average occurances of words for that cluster."
   ]
  },
  {
   "cell_type": "code",
   "execution_count": 17,
   "metadata": {},
   "outputs": [],
   "source": [
    "key10 = np.argsort(kmeans.cluster_centers_,1)[:,-1:-11:-1]"
   ]
  },
  {
   "cell_type": "markdown",
   "metadata": {},
   "source": [
    "#### Find the top 10 features for each cluster.\n",
    "For topics we are only really interested in the most present words, i.e. features/dimensions with the greatest representation in the centroid.  Print out the top ten words for each centroid.\n",
    "\n",
    "* Sort each centroid vector to find the top 10 features\n",
    "* Go back to your vectorizer object to find out what words each of these features corresponds to.\n"
   ]
  },
  {
   "cell_type": "code",
   "execution_count": 18,
   "metadata": {},
   "outputs": [
    {
     "name": "stdout",
     "output_type": "stream",
     "text": [
      "0: burger, fries, burgers, good, shake, cheese, place, food, great, just\n",
      "1: chicken, good, fried, food, place, ordered, rice, great, sauce, like\n",
      "2: sushi, rolls, roll, ayce, place, fresh, good, great, fish, service\n",
      "3: pizza, crust, good, place, slice, great, cheese, just, delivery, ordered\n",
      "4: great, food, service, place, good, friendly, staff, awesome, atmosphere, recommend\n",
      "5: food, order, service, time, minutes, just, table, came, asked, got\n",
      "6: best, vegas, amazing, food, place, las, service, ve, love, definitely\n",
      "7: good, food, place, like, really, service, just, delicious, nice, ordered\n"
     ]
    }
   ],
   "source": [
    "#type(key10)\n",
    "for i,c in enumerate(key10):\n",
    "    print(\"%d: %s\" % (i, \", \".join(vocab[i] for i in c)))"
   ]
  },
  {
   "cell_type": "markdown",
   "metadata": {},
   "source": [
    "#### Try different k\n",
    "If you set k == to a different number, how does the top features change?"
   ]
  },
  {
   "cell_type": "code",
   "execution_count": 19,
   "metadata": {},
   "outputs": [
    {
     "data": {
      "text/plain": [
       "KMeans(algorithm='auto', copy_x=True, init='k-means++', max_iter=300,\n",
       "    n_clusters=6, n_init=10, n_jobs=1, precompute_distances='auto',\n",
       "    random_state=None, tol=0.0001, verbose=0)"
      ]
     },
     "execution_count": 19,
     "metadata": {},
     "output_type": "execute_result"
    }
   ],
   "source": [
    "kmeans_6 = KMeans(n_clusters = 6)\n",
    "kmeans_6.fit(vectorized_train)"
   ]
  },
  {
   "cell_type": "code",
   "execution_count": 20,
   "metadata": {},
   "outputs": [
    {
     "name": "stdout",
     "output_type": "stream",
     "text": [
      "0: great, food, service, place, good, friendly, atmosphere, staff, awesome, amazing\n",
      "1: good, chicken, food, like, place, really, ordered, just, got, nice\n",
      "2: burger, fries, burgers, good, shake, cheese, place, food, great, just\n",
      "3: food, order, service, time, minutes, just, table, came, place, asked\n",
      "4: pizza, crust, good, place, slice, great, cheese, just, delivery, time\n",
      "5: place, food, best, amazing, vegas, love, service, delicious, friendly, staff\n"
     ]
    }
   ],
   "source": [
    "key6 = np.argsort(kmeans_6.cluster_centers_,1)[:,-1:-11:-1]\n",
    "for i,c in enumerate(key6):\n",
    "    print(\"%d: %s\" % (i, \", \".join(vocab[i] for i in c)))"
   ]
  },
  {
   "cell_type": "markdown",
   "metadata": {},
   "source": [
    "#### Print out the rating and review of a random sample of the reviews assigned to each cluster to get a sense of the cluster."
   ]
  },
  {
   "cell_type": "code",
   "execution_count": 21,
   "metadata": {},
   "outputs": [
    {
     "name": "stdout",
     "output_type": "stream",
     "text": [
      "==========\n",
      "Cluster 0:\n",
      "    1 - \n",
      "You would think for the price they could get the order correct. Really? $2 for a piece of cheese added to a burger that was already overpriced. You have lots of other choices in the immediate area. Choose something else. And from now on I will consult Yelp before before ordering. Quality is nothing special.\n",
      "    1 - \n",
      "Ordered in drive thru, polite and helpful customer service but I received wrong Order. Called to check if I could return and receive correct order but no answer. Fries were ok. Shake was good. Burger looked ok but not what I ordered. I'll stick to my usual in n out.\n",
      "\n",
      "==========\n",
      "Cluster 1:\n",
      "    4 - \n",
      "One of the best chicken fingers I've ever tasted (but the best in USA I guess. Lol!). I love their sauce and toast as well. I always order the caniac combo. My brother-in-law is from SoCal, and he makes sure he gets some Cane's whenever he's in town. That's how good their chicken strips are! The queue at their drive-thru is always long at night(just like in n out's drive-thru in Vegas), especially when it's almost closing, but not to worry because the service is fast!\n",
      "    3 - \n",
      "It's pretty authentic, but good. Only give it a 3 cause the lady gave us the check with in 20 minutes, didn't even have dessert yet felt pretty rushed and orange chicken was really soggy :/ that's my favorite.\n",
      "\n",
      "==========\n",
      "Cluster 2:\n",
      "    4 - \n",
      "Formerly Jaburrito, I spoke with one of the clerks who said that the owner is actually the same owner of Soho on 215, and wanted to unify the soho name in Las Vegas. This is what prompted the name change but the most suspicious thing to me is why change all of the names of the signature burritos? Nonetheless the burritos are the same but some of the signature items are a dollar or two cheaper \n",
      "\n",
      "If you like their facebook or instagram page you get a free salmon nigiri pen !\n",
      "\n",
      "Setting: Right off W. Sahara after rancho. It's in the mcdonald's parking lot. Pretty big parking lot so you should be able to find a spot. \n",
      "\n",
      "Interior: Bright but really not a lot of places to sit especially with how popular it is, so have someone claim a spot and get their order while you're in line if you wanna be those people lol.\n",
      "\n",
      "Food: It's everything you'd want in a sushi burrito (minus unagi). Loads of options to add to your burritos so take advantage of it. \n",
      "\n",
      "Service: Friendly and willing to explain how their menu works. Previously half of my burrito fell on the floor but they did not hesitate to bring me a new whole burrito :)\n",
      "\n",
      "Drinks: They have water cups but they're the kind you get from the dentist's office, so don't let your water sit in that cup for too long. I opted for their apple soda which had an unusual aftertaste, so I'd go for the melon soda instead.\n",
      "\n",
      "Overall: 30 minutes away from my house and yet it's quite worth the drive. Soho burrito has staked it's claim as Las Vegas's first official sushi burrito restaurant and it's here to stay.\n",
      "    2 - \n",
      "Very busy sushi buffet restaurant in Las Vegas.  Food is reasonably priced and service is ok. It is a type of restaurant you would visit for quantity not quality. The ingredients were not as fresh as you would wanted....don't order anything with Unagi, it is disgusting.  However, some of the tofu dish was not bad and sushi was ok. They have one of those rule of not leaving food behind but this could be a touture when some dish doesn't taste good. If you have dinner buffet, they have sashimi salads in various way. Some of them with no mayo tasted much better than one with. Some of the appetizers were better tasting such as tofu, skewers and calamari. They do have various rolls and Maki for almost everyone's liking. Please note, if you are a hard core Japanese food person, this is not the place, but if you occasionally have Japanese food with your friends and family, you might like this place more than I do as they do have karaoke etc. I also saw lots of families dine here as well. This restaurant has 3 locations in Las Vegas, one on Decatur is the best one.\n",
      "\n",
      "==========\n",
      "Cluster 3:\n",
      "    1 - \n",
      "I would give this place ZERO stars if it had that option! I freakin hate this place! They have the worst customer service you could imagine..\n",
      "\n",
      "I called for pickup & ordered one pepporoni pizza with crazy crust (secret menu item) all\n",
      "over& crazy bread. Girl who answered the phone sounded so rude & unhelpful. She responded with \" PEPPERONI PIZZA AND HUH?!\" & she said \" I DONT KNOW WHAT THAT IS HOLD ON!!\"Okay first off I dont expect all the workers to know what it is but you couldve asked me what it was without having an attitude! I said \" cancel my order I dont want to order from this location anymore\" & I hung up!\n",
      "\n",
      "I called back & demanded to talk with a supervisor & I told him what happend. He responded with \"yeah she talks like that to me too.\" Like okay? Thats not an excuse its your damn job.You He said \"what can I do for you?\"\n",
      "I told him \"I just needed to let you know about your employee but what could you do for me? \" he said \" i could offer you a free pizza, what was your order?\" I told him what I ordered and drove back to that location.\n",
      "\n",
      "I got there an it was a long line & you could see about 7 people waiting on the sides for their food still. There was only ONE person working the cashier and it was a really timid boy I would say hes still in high school & he started freaking out because a bunch of people were still waiting for their food& they started complaining. He asked for help & his supervisor or no one else even helped him. I felt bad for him! \n",
      "\n",
      "then when i got there I told them I called & asked for the supervisor that I talked with. They looked up my name & they told me completely different order.. They said I ordered a deep dish with crazy bread. I said no thats not my pizza & the manager kept saying \"well thats what I have in here\" well change it?? I obviously know what my damn order is! He fixed it & he said total is 15 dollars or something & I said\" waaait hold on you told me the pizza was free\" he said \"no I said the deep dish pizza was free\" thats when I started getting mad. I told him\" well first of all thats not what I ordered & you said free pizza\" & he started changing his story and said \" i didnt say anything was free at all I just said a discount\" \n",
      "i was getting so mad already like you have the audacity to keep arguing with me? He should of just resolved the problem but he just kept going on and on!! Then he said \"theres nothing I can do theres people waiting\" I said \" okay I understand that! But ive been waiting too & im just trying to get my family dinner just like everyone else! You should treat every customer equal!\" \n",
      "\n",
      "He just kept constantly dissagreeing , debating& talking when all he couldve done was honor what he said on the phone! I walked away paid 7 dollars! Even the guy at the cashier said he wants to quit because they treat their employees so wrong. I cant even deal with their customer service!! It sucks! their pizza is good but i dont want to buy from such annoying people!!\n",
      "    5 - \n",
      "Just move to the area, found this on here. Let's just say it's amazing one of the best pizza places I have tried. The \"Real deal\" a must try, now the best part they have a groupon!!!!!!\n",
      "\n",
      "==========\n",
      "Cluster 4:\n",
      "    5 - \n",
      "This place is the bomb yo!\n",
      "\n",
      "\n",
      "\n",
      "Lots of meat for a great price. Drinks are also well priced.\n",
      "    5 - \n",
      "What else can you say... Food,  service and atmosphere is top notch for a chain restaurant.\n",
      "\n",
      "==========\n",
      "Cluster 5:\n",
      "    2 - \n",
      "Half of the things we ordered came out wrong: from the drinks to the type of burrito. Everything took awhile to come out even though the restaurant wasn't that busy. We watched as the manager watched us as it was obvious that we weren't happy. And then he came over to us and said \"here, I'll box your food myself\" as if it was more special that the manager was boxing our food. He then stacked our food on top of each other, so my fathers plate of food was on top of mine and the manager was then going to box the food that is smoothed. He couldn't even apologize for the problems that happened tonight. The food was just adequate. It was nothing special but nothing horrible. The Mexican place before this was way better. Strongly encourage not to waste your time at this restaurant\n",
      "    5 - \n",
      "DJ at the bar was so awesome. She never stops and is constantly going. She works hard and gave us wonderful customer service\n",
      "\n",
      "==========\n",
      "Cluster 6:\n",
      "    5 - \n",
      "Best boba tea! You can select the sugar levels in your drink, whether or not it's caffeinated, whether or not it has ice. I got the Taro Milk which was amazing. I heard about this place from someone who said it's the best Boba in the US. He lived in Thailand for 10 years so he really likes tea. Try it!\n",
      "    5 - \n",
      "Kobe Sam is so yummm. fantastic！the first time here with frds and we all think the food is amazing！！！definetely wanna come next time\n",
      "\n",
      "==========\n",
      "Cluster 7:\n",
      "    4 - \n",
      "Only ever gotten delivery but the food is great! Delivery is fast and have yet to find an item I didn't like. Always get the chili it's bomb.\n",
      "    5 - \n",
      "Really delicious and fresh meats. Also the nicest staff I've ever met.  I had the number 6 and the meat was medium rare, which was perfect!\n",
      "\n"
     ]
    },
    {
     "name": "stderr",
     "output_type": "stream",
     "text": [
      "/Users/jessie/anaconda3/lib/python3.5/site-packages/ipykernel_launcher.py:7: DeprecationWarning: \n",
      ".ix is deprecated. Please use\n",
      ".loc for label based indexing or\n",
      ".iloc for positional indexing\n",
      "\n",
      "See the documentation here:\n",
      "http://pandas.pydata.org/pandas-docs/stable/indexing.html#ix-indexer-is-deprecated\n",
      "  import sys\n"
     ]
    }
   ],
   "source": [
    "for i in range(kmeans.n_clusters):\n",
    "    cluster = np.arange(0, reviews.shape[0])[cluster_pred==i] # index of cluster\n",
    "    sample_reviews = np.random.choice(cluster, 2, replace=False)\n",
    "    print( \"=\" * 10)\n",
    "    print( \"Cluster %d:\" % i)\n",
    "    for review_index in sample_reviews:\n",
    "        print( \"    %s - \" % df.ix[review_index]['stars'],)\n",
    "        print( \"%s\" % df.ix[review_index]['text'])\n",
    "    print()"
   ]
  },
  {
   "cell_type": "code",
   "execution_count": 22,
   "metadata": {},
   "outputs": [
    {
     "ename": "ImportError",
     "evalue": "No module named 'wordcloud'",
     "output_type": "error",
     "traceback": [
      "\u001b[0;31m---------------------------------------------------------------------------\u001b[0m",
      "\u001b[0;31mImportError\u001b[0m                               Traceback (most recent call last)",
      "\u001b[0;32m<ipython-input-22-b82e26c4963f>\u001b[0m in \u001b[0;36m<module>\u001b[0;34m()\u001b[0m\n\u001b[0;32m----> 1\u001b[0;31m \u001b[0;32mfrom\u001b[0m \u001b[0mwordcloud\u001b[0m \u001b[0;32mimport\u001b[0m \u001b[0mWordCloud\u001b[0m\u001b[0;34m\u001b[0m\u001b[0m\n\u001b[0m\u001b[1;32m      2\u001b[0m \u001b[0mfig\u001b[0m\u001b[0;34m,\u001b[0m \u001b[0max\u001b[0m \u001b[0;34m=\u001b[0m \u001b[0mplt\u001b[0m\u001b[0;34m.\u001b[0m\u001b[0msubplots\u001b[0m\u001b[0;34m(\u001b[0m\u001b[0mkmeans\u001b[0m\u001b[0;34m.\u001b[0m\u001b[0mn_clusters\u001b[0m\u001b[0;34m,\u001b[0m\u001b[0;36m1\u001b[0m\u001b[0;34m,\u001b[0m \u001b[0mfigsize\u001b[0m\u001b[0;34m=\u001b[0m\u001b[0;34m(\u001b[0m\u001b[0;36m1\u001b[0m\u001b[0;34m*\u001b[0m\u001b[0;36m10\u001b[0m\u001b[0;34m,\u001b[0m\u001b[0mkmeans\u001b[0m\u001b[0;34m.\u001b[0m\u001b[0mn_clusters\u001b[0m\u001b[0;34m*\u001b[0m\u001b[0;36m5\u001b[0m\u001b[0;34m)\u001b[0m\u001b[0;34m)\u001b[0m\u001b[0;34m\u001b[0m\u001b[0m\n\u001b[1;32m      3\u001b[0m \u001b[0;32mfor\u001b[0m \u001b[0mi\u001b[0m \u001b[0;32min\u001b[0m \u001b[0mrange\u001b[0m\u001b[0;34m(\u001b[0m\u001b[0mkmeans\u001b[0m\u001b[0;34m.\u001b[0m\u001b[0mn_clusters\u001b[0m\u001b[0;34m)\u001b[0m\u001b[0;34m:\u001b[0m\u001b[0;34m\u001b[0m\u001b[0m\n\u001b[1;32m      4\u001b[0m     \u001b[0mcluster\u001b[0m \u001b[0;34m=\u001b[0m \u001b[0mnp\u001b[0m\u001b[0;34m.\u001b[0m\u001b[0marange\u001b[0m\u001b[0;34m(\u001b[0m\u001b[0;36m0\u001b[0m\u001b[0;34m,\u001b[0m \u001b[0mreviews\u001b[0m\u001b[0;34m.\u001b[0m\u001b[0mshape\u001b[0m\u001b[0;34m[\u001b[0m\u001b[0;36m0\u001b[0m\u001b[0;34m]\u001b[0m\u001b[0;34m)\u001b[0m\u001b[0;34m[\u001b[0m\u001b[0mcluster_pred\u001b[0m\u001b[0;34m==\u001b[0m\u001b[0mi\u001b[0m\u001b[0;34m]\u001b[0m\u001b[0;34m\u001b[0m\u001b[0m\n\u001b[1;32m      5\u001b[0m     \u001b[0mwordcloud\u001b[0m \u001b[0;34m=\u001b[0m \u001b[0mWordCloud\u001b[0m\u001b[0;34m(\u001b[0m\u001b[0;34m)\u001b[0m\u001b[0;34m.\u001b[0m\u001b[0mgenerate\u001b[0m\u001b[0;34m(\u001b[0m\u001b[0mcluster\u001b[0m\u001b[0;34m)\u001b[0m\u001b[0;34m\u001b[0m\u001b[0m\n",
      "\u001b[0;31mImportError\u001b[0m: No module named 'wordcloud'"
     ]
    }
   ],
   "source": [
    "from wordcloud import WordCloud\n",
    "fig, ax = plt.subplots(kmeans.n_clusters,1, figsize=(1*10,kmeans.n_clusters*5))\n",
    "for i in range(kmeans.n_clusters):\n",
    "    cluster = reviews[cluster_pred==i] \n",
    "    wordcloud = WordCloud().generate(cluster)\n",
    "    ax[i].imshow(wordcloud, interpolation='bilinear')\n",
    "    ax[i].axis(\"off\")\n",
    "    ax[i].set_title('cluster#'+str(i)+\" review word clouds\")\n",
    "plt.savefig(\"word_clouds\"+'_'+str(kmeans.n_clusters) + \"clusters\")"
   ]
  },
  {
   "cell_type": "markdown",
   "metadata": {},
   "source": [
    "## 2. Cluster all the reviews of the most reviewed restaurant\n",
    "Let's find the most reviewed restaurant and analyze its reviews"
   ]
  },
  {
   "cell_type": "code",
   "execution_count": 65,
   "metadata": {},
   "outputs": [
    {
     "data": {
      "text/html": [
       "<div>\n",
       "<table border=\"1\" class=\"dataframe\">\n",
       "  <thead>\n",
       "    <tr style=\"text-align: right;\">\n",
       "      <th></th>\n",
       "      <th>business_id</th>\n",
       "      <th>name</th>\n",
       "      <th>categories</th>\n",
       "      <th>avg_stars</th>\n",
       "      <th>cool</th>\n",
       "      <th>date</th>\n",
       "      <th>funny</th>\n",
       "      <th>review_id</th>\n",
       "      <th>stars</th>\n",
       "      <th>text</th>\n",
       "      <th>useful</th>\n",
       "      <th>user_id</th>\n",
       "    </tr>\n",
       "  </thead>\n",
       "  <tbody>\n",
       "    <tr>\n",
       "      <th>122237</th>\n",
       "      <td>RESDUcs7fIiihp38-d6_6g</td>\n",
       "      <td>Bacchanal Buffet</td>\n",
       "      <td>['Food', 'Restaurants', 'Buffets', 'Breakfast ...</td>\n",
       "      <td>4.0</td>\n",
       "      <td>0</td>\n",
       "      <td>2016-03-29</td>\n",
       "      <td>0</td>\n",
       "      <td>yEILB4Esswy8yEZcikD4Hg</td>\n",
       "      <td>3</td>\n",
       "      <td>Not worth the price of admission! The wait is ...</td>\n",
       "      <td>0</td>\n",
       "      <td>82Micw6atbqgn8-r7oNRKg</td>\n",
       "    </tr>\n",
       "    <tr>\n",
       "      <th>122238</th>\n",
       "      <td>RESDUcs7fIiihp38-d6_6g</td>\n",
       "      <td>Bacchanal Buffet</td>\n",
       "      <td>['Food', 'Restaurants', 'Buffets', 'Breakfast ...</td>\n",
       "      <td>4.0</td>\n",
       "      <td>0</td>\n",
       "      <td>2017-06-17</td>\n",
       "      <td>0</td>\n",
       "      <td>C5qArpcpZTgYV3rh9zAYjA</td>\n",
       "      <td>2</td>\n",
       "      <td>When it first opened, this place was beyond am...</td>\n",
       "      <td>1</td>\n",
       "      <td>vrYY6ByqCS-2We-raSqjXQ</td>\n",
       "    </tr>\n",
       "    <tr>\n",
       "      <th>122239</th>\n",
       "      <td>RESDUcs7fIiihp38-d6_6g</td>\n",
       "      <td>Bacchanal Buffet</td>\n",
       "      <td>['Food', 'Restaurants', 'Buffets', 'Breakfast ...</td>\n",
       "      <td>4.0</td>\n",
       "      <td>0</td>\n",
       "      <td>2016-12-19</td>\n",
       "      <td>0</td>\n",
       "      <td>CKHsb_CSi2hMum685dwfdQ</td>\n",
       "      <td>5</td>\n",
       "      <td>The majority of the food was great. Seafood wa...</td>\n",
       "      <td>0</td>\n",
       "      <td>H0YMJC37tK41ez5i4Zpl6g</td>\n",
       "    </tr>\n",
       "    <tr>\n",
       "      <th>122240</th>\n",
       "      <td>RESDUcs7fIiihp38-d6_6g</td>\n",
       "      <td>Bacchanal Buffet</td>\n",
       "      <td>['Food', 'Restaurants', 'Buffets', 'Breakfast ...</td>\n",
       "      <td>4.0</td>\n",
       "      <td>0</td>\n",
       "      <td>2016-11-21</td>\n",
       "      <td>1</td>\n",
       "      <td>AlHEI6EqxyIhlFHVEu-hpw</td>\n",
       "      <td>2</td>\n",
       "      <td>We chose this venue b/c of the number of food ...</td>\n",
       "      <td>0</td>\n",
       "      <td>osjk1Ti_xbDPccEGIdwZOQ</td>\n",
       "    </tr>\n",
       "    <tr>\n",
       "      <th>122241</th>\n",
       "      <td>RESDUcs7fIiihp38-d6_6g</td>\n",
       "      <td>Bacchanal Buffet</td>\n",
       "      <td>['Food', 'Restaurants', 'Buffets', 'Breakfast ...</td>\n",
       "      <td>4.0</td>\n",
       "      <td>0</td>\n",
       "      <td>2016-12-05</td>\n",
       "      <td>0</td>\n",
       "      <td>B-RZ5cnRNd2YT8kVzPR1vQ</td>\n",
       "      <td>3</td>\n",
       "      <td>PROS: Lots of variety, great dessert selection...</td>\n",
       "      <td>1</td>\n",
       "      <td>KW-X4cQ2yBZYVUjFaAY04A</td>\n",
       "    </tr>\n",
       "  </tbody>\n",
       "</table>\n",
       "</div>"
      ],
      "text/plain": [
       "                   business_id              name  \\\n",
       "122237  RESDUcs7fIiihp38-d6_6g  Bacchanal Buffet   \n",
       "122238  RESDUcs7fIiihp38-d6_6g  Bacchanal Buffet   \n",
       "122239  RESDUcs7fIiihp38-d6_6g  Bacchanal Buffet   \n",
       "122240  RESDUcs7fIiihp38-d6_6g  Bacchanal Buffet   \n",
       "122241  RESDUcs7fIiihp38-d6_6g  Bacchanal Buffet   \n",
       "\n",
       "                                               categories  avg_stars  cool  \\\n",
       "122237  ['Food', 'Restaurants', 'Buffets', 'Breakfast ...        4.0     0   \n",
       "122238  ['Food', 'Restaurants', 'Buffets', 'Breakfast ...        4.0     0   \n",
       "122239  ['Food', 'Restaurants', 'Buffets', 'Breakfast ...        4.0     0   \n",
       "122240  ['Food', 'Restaurants', 'Buffets', 'Breakfast ...        4.0     0   \n",
       "122241  ['Food', 'Restaurants', 'Buffets', 'Breakfast ...        4.0     0   \n",
       "\n",
       "              date  funny               review_id  stars  \\\n",
       "122237  2016-03-29      0  yEILB4Esswy8yEZcikD4Hg      3   \n",
       "122238  2017-06-17      0  C5qArpcpZTgYV3rh9zAYjA      2   \n",
       "122239  2016-12-19      0  CKHsb_CSi2hMum685dwfdQ      5   \n",
       "122240  2016-11-21      1  AlHEI6EqxyIhlFHVEu-hpw      2   \n",
       "122241  2016-12-05      0  B-RZ5cnRNd2YT8kVzPR1vQ      3   \n",
       "\n",
       "                                                     text  useful  \\\n",
       "122237  Not worth the price of admission! The wait is ...       0   \n",
       "122238  When it first opened, this place was beyond am...       1   \n",
       "122239  The majority of the food was great. Seafood wa...       0   \n",
       "122240  We chose this venue b/c of the number of food ...       0   \n",
       "122241  PROS: Lots of variety, great dessert selection...       1   \n",
       "\n",
       "                       user_id  \n",
       "122237  82Micw6atbqgn8-r7oNRKg  \n",
       "122238  vrYY6ByqCS-2We-raSqjXQ  \n",
       "122239  H0YMJC37tK41ez5i4Zpl6g  \n",
       "122240  osjk1Ti_xbDPccEGIdwZOQ  \n",
       "122241  KW-X4cQ2yBZYVUjFaAY04A  "
      ]
     },
     "execution_count": 65,
     "metadata": {},
     "output_type": "execute_result"
    }
   ],
   "source": [
    "# Find the business who got most reviews, get your filtered df, name it df_top_restaurant\n",
    "most_reviewed_id = df.business_id.value_counts().index[0]\n",
    "\n",
    "df_most_reviewed = df[df.business_id == most_reviewed_id]\n",
    "df_most_reviewed.head()"
   ]
  },
  {
   "cell_type": "markdown",
   "metadata": {},
   "source": [
    "We can also load restaurant profile information from the business dataset (optional)"
   ]
  },
  {
   "cell_type": "code",
   "execution_count": 66,
   "metadata": {},
   "outputs": [
    {
     "data": {
      "text/html": [
       "<div>\n",
       "<table border=\"1\" class=\"dataframe\">\n",
       "  <thead>\n",
       "    <tr style=\"text-align: right;\">\n",
       "      <th></th>\n",
       "      <th>address</th>\n",
       "      <th>attributes</th>\n",
       "      <th>business_id</th>\n",
       "      <th>categories</th>\n",
       "      <th>city</th>\n",
       "      <th>hours</th>\n",
       "      <th>is_open</th>\n",
       "      <th>latitude</th>\n",
       "      <th>longitude</th>\n",
       "      <th>name</th>\n",
       "      <th>neighborhood</th>\n",
       "      <th>postal_code</th>\n",
       "      <th>review_count</th>\n",
       "      <th>stars</th>\n",
       "      <th>state</th>\n",
       "    </tr>\n",
       "  </thead>\n",
       "  <tbody>\n",
       "    <tr>\n",
       "      <th>125404</th>\n",
       "      <td>3570 S Las Vegas Blvd</td>\n",
       "      <td>{'RestaurantsTableService': True, 'GoodForMeal...</td>\n",
       "      <td>RESDUcs7fIiihp38-d6_6g</td>\n",
       "      <td>[Food, Restaurants, Buffets, Breakfast &amp; Brunc...</td>\n",
       "      <td>Las Vegas</td>\n",
       "      <td>{'Monday': '7:30-22:00', 'Tuesday': '7:30-22:0...</td>\n",
       "      <td>1</td>\n",
       "      <td>36.116113</td>\n",
       "      <td>-115.176222</td>\n",
       "      <td>Bacchanal Buffet</td>\n",
       "      <td>The Strip</td>\n",
       "      <td>89109</td>\n",
       "      <td>6417</td>\n",
       "      <td>4.0</td>\n",
       "      <td>NV</td>\n",
       "    </tr>\n",
       "  </tbody>\n",
       "</table>\n",
       "</div>"
      ],
      "text/plain": [
       "                      address  \\\n",
       "125404  3570 S Las Vegas Blvd   \n",
       "\n",
       "                                               attributes  \\\n",
       "125404  {'RestaurantsTableService': True, 'GoodForMeal...   \n",
       "\n",
       "                   business_id  \\\n",
       "125404  RESDUcs7fIiihp38-d6_6g   \n",
       "\n",
       "                                               categories       city  \\\n",
       "125404  [Food, Restaurants, Buffets, Breakfast & Brunc...  Las Vegas   \n",
       "\n",
       "                                                    hours  is_open   latitude  \\\n",
       "125404  {'Monday': '7:30-22:00', 'Tuesday': '7:30-22:0...        1  36.116113   \n",
       "\n",
       "         longitude              name neighborhood postal_code  review_count  \\\n",
       "125404 -115.176222  Bacchanal Buffet    The Strip       89109          6417   \n",
       "\n",
       "        stars state  \n",
       "125404    4.0    NV  "
      ]
     },
     "execution_count": 66,
     "metadata": {},
     "output_type": "execute_result"
    }
   ],
   "source": [
    "# Load business dataset (optional)\n",
    "# Take a look at the most reviewed restaurant's profile (optional)\n",
    "import json\n",
    "import pandas as pd\n",
    "\n",
    "file_business = 'dataset/business.json'\n",
    "with open(file_business) as f:\n",
    "    df_business = pd.DataFrame(json.loads(line) for line in f)\n",
    "    \n",
    "df_business[df_business['business_id'] == most_reviewed_id]"
   ]
  },
  {
   "cell_type": "markdown",
   "metadata": {},
   "source": [
    "### Vectorize the text feature"
   ]
  },
  {
   "cell_type": "code",
   "execution_count": 67,
   "metadata": {
    "collapsed": true
   },
   "outputs": [],
   "source": [
    "# Take the values of the column that contains review text data, save to a variable named \"documents_top_restaurant\"\n",
    "documents_top_restaurant = df_most_reviewed.text.values"
   ]
  },
  {
   "cell_type": "markdown",
   "metadata": {},
   "source": [
    "### Define your target variable (for later classification use)"
   ]
  },
  {
   "cell_type": "markdown",
   "metadata": {},
   "source": [
    "#### Again, we look at perfect (5 stars) and imperfect (1-4 stars) rating"
   ]
  },
  {
   "cell_type": "code",
   "execution_count": 68,
   "metadata": {
    "collapsed": true
   },
   "outputs": [],
   "source": [
    "df_most_reviewed.target = df_most_reviewed.stars > 4"
   ]
  },
  {
   "cell_type": "markdown",
   "metadata": {},
   "source": [
    "#### Check the statistic of the target variable"
   ]
  },
  {
   "cell_type": "code",
   "execution_count": 69,
   "metadata": {},
   "outputs": [
    {
     "data": {
      "text/plain": [
       "count      2051\n",
       "unique        2\n",
       "top       False\n",
       "freq       1337\n",
       "Name: stars, dtype: object"
      ]
     },
     "execution_count": 69,
     "metadata": {},
     "output_type": "execute_result"
    }
   ],
   "source": [
    "df_most_reviewed.target.describe()"
   ]
  },
  {
   "cell_type": "markdown",
   "metadata": {},
   "source": [
    "### Create training dataset and test dataset"
   ]
  },
  {
   "cell_type": "code",
   "execution_count": 70,
   "metadata": {
    "collapsed": true
   },
   "outputs": [],
   "source": [
    "from sklearn.cross_validation import train_test_split"
   ]
  },
  {
   "cell_type": "code",
   "execution_count": 78,
   "metadata": {
    "collapsed": true
   },
   "outputs": [],
   "source": [
    "# documents_top_restaurant is your X, target_top_restaurant is your y\n",
    "# Now split the data to training set and test set\n",
    "# Now your data is smaller, you can use a typical \"test_size\", e.g. 0.3-0.7\n",
    "most_reviewed_train, most_reviewed_test, target_train, target_test = train_test_split(\n",
    "     documents_top_restaurant, df_most_reviewed.target, test_size=0.3, random_state=121)"
   ]
  },
  {
   "cell_type": "markdown",
   "metadata": {},
   "source": [
    "### Get NLP representation of the documents"
   ]
  },
  {
   "cell_type": "code",
   "execution_count": 79,
   "metadata": {
    "collapsed": true
   },
   "outputs": [],
   "source": [
    "from sklearn.feature_extraction.text import TfidfVectorizer"
   ]
  },
  {
   "cell_type": "code",
   "execution_count": 80,
   "metadata": {
    "collapsed": true
   },
   "outputs": [],
   "source": [
    "# Create TfidfVectorizer, and name it vectorizer\n",
    "vectorizer = TfidfVectorizer(stop_words=\"english\", max_features=500)"
   ]
  },
  {
   "cell_type": "code",
   "execution_count": 81,
   "metadata": {
    "collapsed": true
   },
   "outputs": [],
   "source": [
    "# Train the model with your training data\n",
    "vec_train = vectorizer.fit_transform(most_reviewed_train)"
   ]
  },
  {
   "cell_type": "code",
   "execution_count": 84,
   "metadata": {
    "collapsed": true
   },
   "outputs": [],
   "source": [
    "# Get the vocab of your tfidf\n",
    "vocab = vectorizer.get_feature_names()"
   ]
  },
  {
   "cell_type": "code",
   "execution_count": 85,
   "metadata": {
    "collapsed": true
   },
   "outputs": [],
   "source": [
    "# Use the trained model to transform the test data\n",
    "vec_test = vectorizer.transform(most_reviewed_test)"
   ]
  },
  {
   "cell_type": "code",
   "execution_count": 86,
   "metadata": {
    "collapsed": true
   },
   "outputs": [],
   "source": [
    "# Use the trained model to transform all the data\n",
    "vec_all = vectorizer.transform(documents_top_restaurant)"
   ]
  },
  {
   "cell_type": "markdown",
   "metadata": {},
   "source": [
    "### Cluster reviews with KMeans"
   ]
  },
  {
   "cell_type": "markdown",
   "metadata": {},
   "source": [
    "#### Fit k-means clustering on the training vectors and make predictions on all data"
   ]
  },
  {
   "cell_type": "code",
   "execution_count": 87,
   "metadata": {},
   "outputs": [
    {
     "data": {
      "text/plain": [
       "KMeans(algorithm='auto', copy_x=True, init='k-means++', max_iter=300,\n",
       "    n_clusters=8, n_init=10, n_jobs=1, precompute_distances='auto',\n",
       "    random_state=None, tol=0.0001, verbose=0)"
      ]
     },
     "execution_count": 87,
     "metadata": {},
     "output_type": "execute_result"
    }
   ],
   "source": [
    "from sklearn.cluster import KMeans\n",
    "kmeans = KMeans()\n",
    "kmeans.fit(vec_all)"
   ]
  },
  {
   "cell_type": "markdown",
   "metadata": {},
   "source": [
    "#### Make predictions on all your data"
   ]
  },
  {
   "cell_type": "code",
   "execution_count": 88,
   "metadata": {
    "collapsed": true
   },
   "outputs": [],
   "source": [
    "label_all = kmeans.predict(vec_all)"
   ]
  },
  {
   "cell_type": "markdown",
   "metadata": {},
   "source": [
    "#### Inspect the centroids"
   ]
  },
  {
   "cell_type": "code",
   "execution_count": 89,
   "metadata": {
    "collapsed": true
   },
   "outputs": [],
   "source": [
    "centroid_words = np.argsort(kmeans.cluster_centers_,1)[:,-1:-11:-1]"
   ]
  },
  {
   "cell_type": "markdown",
   "metadata": {},
   "source": [
    "#### Find the top 10 features for each cluster."
   ]
  },
  {
   "cell_type": "code",
   "execution_count": 90,
   "metadata": {},
   "outputs": [
    {
     "name": "stdout",
     "output_type": "stream",
     "text": [
      "0: best, vegas, buffet, buffets, ve, las, food, selection, worth, far\n",
      "1: food, good, buffet, worth, place, price, quality, service, don, better\n",
      "2: lunch, breakfast, dinner, buffet, food, price, seafood, time, went, vegas\n",
      "3: food, buffet, time, good, just, like, really, didn, table, got\n",
      "4: great, food, service, buffet, selection, place, definitely, best, good, worth\n",
      "5: line, wait, hour, food, long, time, buffet, people, worth, hours\n",
      "6: buffet, section, station, food, seafood, dessert, asian, mexican, italian, good\n",
      "7: crab, legs, buffet, king, good, food, oysters, seafood, just, rib\n"
     ]
    }
   ],
   "source": [
    "for i,c in enumerate(centroid_words):\n",
    "    print(\"%d: %s\" % (i, \", \".join(vocab[i] for i in c)))"
   ]
  },
  {
   "cell_type": "markdown",
   "metadata": {},
   "source": [
    "#### Print out the rating and review of a random sample of the reviews assigned to each cluster to get a sense of the cluster."
   ]
  },
  {
   "cell_type": "code",
   "execution_count": 96,
   "metadata": {},
   "outputs": [
    {
     "name": "stdout",
     "output_type": "stream",
     "text": [
      "==========\n",
      "Cluster 0:\n",
      "    5 - \n",
      "BEST BUFFET I EVER HAD!!!!\n",
      "\n",
      "Some may think it's expensive, but in Hawaii, a buffet for $55 will not get you much at all! Therefore, for ME, this place was a steal!! \n",
      "\n",
      "I went during the spring and during the summer and the summer had better selections! There was more seafood so more bang for your buck!\n",
      "\n",
      "A good time to go would be about 4 - 4:30, before anyone gets hungry for dinner obviously. But seriously, I went at that time twice on a Thursday and Friday, and there was NO wait!\n",
      "\n",
      "If you're in Vegas, you can't miss out on Bacchanal!\n",
      "\n",
      "    4 - \n",
      "Best buffet I've been to but everything still was.... Like eating at a buffet. None of the food items had a prime restaurant quality feel so the price tag knocks off one star. Do yourself a favor and try their salmon and rack of lamb. Both were great\n",
      "\n",
      "==========\n",
      "Cluster 1:\n",
      "    3 - \n",
      "No thank you. Don't get me wrong some of the offerings on the buffet were great.  Especially the fresh squeezed juices. The lobster Benedict was excellent too. The problem with this place is the cost. Over priced and over rated. There are comparable buffets at less cost.\n",
      "\n",
      "Give the buffet at the M Resort a try. Not fancy but good home style cooking. Wine and champagne and I believe the beer is included.\n",
      "\n",
      "    2 - \n",
      "Expensive, cramped layout, and the food is fair at best. I imagine this was a better buffet when it opened. Now, it's just fair. The food selection is not what you would think judging from the pictures that I am sure Caesar's provides to media outlets including Yelp.\n",
      "\n",
      "You will pay for Valet parking, even as a guest, and don't forget Champagne is an additional charge.\n",
      "\n",
      "In the end, I would avoid this buffet. Expensive and not good. Fair is never worth 43.00 - 65.00 depending on what time you visit this buffet.\n",
      "\n",
      "==========\n",
      "Cluster 2:\n",
      "    5 - \n",
      "Was the best buffet I have ever been to. Had huge variety of meat desserts and sea food. I ate crab til I was sick, and then went back for more. Server was great and even showed me how to eat craw fish for the first time. Only dowmside was the line, and cost. 39 lunch before 3 pm and 54 for dinner.\n",
      "\n",
      "    3 - \n",
      "See food... Usually I see food and then I eat it! But this time I'm talking about seafood. To be fair you're going to need to read my review all the way through to understand why I'm giving them 3 stars. \n",
      "\n",
      "I am a breakfast fanatic and wanted to come for breakfast, unfortunately they only had breakfast brunch until 3 o'clock. (This is the average time in vegas that buffets serve breakfast). When in Vegas it's sometimes hard to get anywhere by then. I rushed my friends out of the room and we  to got to Caesars at 1:45 PM. Unfortunately I didn't realize that the wait could be hours long, I should've read the other reviews. They wouldn't be able to seat us till after 3 which means I was not going to get my breakfast buffet. Prices also go up after 3. \n",
      "\n",
      "We ended up getting seated at 3:15 which means the buffet has turned into dinner now. Even though the food was good and had a lot of seafood, my preference buffets with more choices. My friends who enjoy seafood loved this buffet so if you enjoy crab legs, crawfish, and other seafood you will probably enjoy this buffet. I ended up eating pizza, some Chinese food, and a few of their desserts but nothing really blew me away. They had someone preparing crepes and tacos, which was nice. The food is good but I prefer more selection at my buffets especially because I'm a picky eater who doesn't eat pork, red meat, or seafood. I would be willing to come back and try their breakfast brunch. \n",
      "\n",
      "Lastly this buffet is not cheap, be ready to roll out the dough. I paid about $60 and my friends added unlimited mimosas for about $70! At least they were drunk enough to forget how much they spent.\n",
      "\n",
      "==========\n",
      "Cluster 3:\n",
      "    5 - \n",
      "I made the rookie mistake of coming here when I was only hungry and not ravenous. Hungry doesn't cut it at this place. For $60 a person, you need to get your moneys worth. Luckily for paupers like me, they have a payment plan. 6 installments of $10 payments for half a year. Finally the elite are taking it easy on us. \n",
      "\n",
      "Just kidding, not a real thing. But yes, this place is $60 a person, so...really...if you're only kind of hungry, maybe put it off a day. \n",
      "\n",
      "What did they have? What didn't they have is a better question. Seriously, it's hard to fathom something they didn't have here...Mexican cuisine, CHECK. Chinese food, CHECK. Italian, CHECK. Unlimited steak off the grill? CHECK. The lack of Jewish cuisine was rather disappointing. I was looking forward to traditional kugel. \n",
      "\n",
      "I ate a lot of seafood. Clams, oysters, crab legs, shrimp (in like 6 different forms), chowder, etc...I also had the steak...which was surprisingly average. But a man named \"Jesus\" served it to me. He was actually the second person I met in Vegas named Jesus. Thought that was cool, and ironic for Vegas. \n",
      "\n",
      "Overall the food is amazing. It is just terrific unlimited food everywhere. It is a paradise. So, 5 stars.\n",
      "\n",
      "    4 - \n",
      "I believe we paid about $60 for Saturday Brunch with bottomless mimosas. \n",
      "\n",
      "You walk over, enter your information into a kiosk and get a return time. In the past we would get a text to come back, but this time we just showed up at 2:00 for our 2:19 return time and it was chill.\n",
      "\n",
      "2:00 pm was perfect because we were able to grab a couple breakfast items just before dinner items came out. Also, since it's an in between eating time, it was a lot less crowded during the second half of our meal. We left satisfied; there's a big selection of food (just look at everyone else's pictures) and bottomless mimosas? It was just about a $7 add-on to the base price.\n",
      "\n",
      "==========\n",
      "Cluster 4:\n",
      "    4 - \n",
      "Obviously good for a buffet. Great selection of all types of food. Prepare for a long wait. They had hundreds and hundreds of options!\n",
      "\n",
      "    5 - \n",
      "This buffet is real quality! Prime rib is my favorite here not only because of the taste but also David, the gentleman who serves you the turkey, ribs, pork with great attitude! David, you are the BEST! Thank you.\n",
      "\n",
      "==========\n",
      "Cluster 5:\n",
      "    4 - \n",
      "The FOUR hour wait was worth it. You heard me right. Four...hours...of...hunger.\n",
      "\n",
      "I have some ideas on why the wait was four hours: 1) Father's Day weekend, 2) Caesar Palace's 50th Anniversary on a weekend, 3) EDC week, 4) Summer vacation, 5) one of the few remaining Las Vegas buffets that serve King Crab legs.\n",
      "\n",
      "The process is pretty simple. Go to a kioski, punch in your mobile phone number, go up the food agent (hostess?) and blabber about how long the wait is, leave the area and go shopping/drinking, come back within an hour of your wait, then eat! My cousin had a conspiracy theory (which is her normal state of mind): they want you to roam around, gamble, and spend money while you wait. She may have a point there.\n",
      "\n",
      "Once you get in line, there is another line. Sigh. We didn't know you could pay in advance to cut in line, but I don't think they were offering this tempting upgrade due to the heavy amount of people frequenting the buffet the day we went.\n",
      "\n",
      "The inside was spacious and clean and hardly any lines! It's ingenious how Bacchanal manages to let people in at staggered times to avoid Buffet Line Road Rage. The only \"line\" of 2-3 people were mostly gathered around the \"King Crab\" legs, which were super anemic-looking. I still have a sneaky suspicion they were Snow Crab Legs...it was still delicious with the warm, nutty clarified butter. We ate so much we felt a little queasy. \n",
      "\n",
      "I could go on and on about the food but I'm sure the 12,000 photos on Yelp will do the talking. It was worth the wait just so we could say we ate at the Bacchanal, but if you have hungry screaming kids, I'd avoid the Bacchanal during peak times and go elsewhere. \n",
      "\n",
      "We paid about $120 for the both of us, not including the tip.\n",
      "\n",
      "    3 - \n",
      "This place is very popular.  I tried to avoid the long line so went around 4pm. Still had to wait 30minutes. \n",
      "\n",
      "The buffet is overpriced. It is good but same as all the other buffet places. Nothing special. Wish they had more food options.\n",
      "\n",
      "==========\n",
      "Cluster 6:\n",
      "    5 - \n",
      "Where to even start? The 50 minute wait for a party of four? Expected (even pleasantly surprised - we thought it would be 90 minutes at least). The absolutely incredible feat of producing such a massive scale of good quality food? Well, it's Vegas. The diversity in the featured cuisines? That definitely caught me off guard. I hadn't read much about Bacchanal before my friends insisted that we go. Since I almost never eat at buffets, the only impression I had was of something like Old Country or Golden Corral (*cringes*). But Bacchanal changes the game. Seeing the rows of dishes inspired by American, Italian, Chinese, and Japanese cuisines made me SO unbelievably happy. Also, that doesn't even include the incredible seafood row as well as the entire DESSERT island. Plus, my friends and I got the mimosa pass as well, so endless bubblies were part of the experience too!! \n",
      "\n",
      "Must-try dishes (hopefully they keep these in the buffet!):\n",
      "1. Shrimp ceviche (seafood section) - so fucking good; the sauce is super savory and tangy \n",
      "2. Custard buns (Chinese dim sum section) - these were my favorite growing up, and they were so warm and fluffy and the custard was perfectly sweet (but not too sweet!)\n",
      "3. Sushi hand rolls (Japanese section) - these cute little hand rolls were yummy and adorably packaged...also the rest of the sushi was amazing as well\n",
      "4. Sticky rice in lotus leaf (Chinese dim sum section) - another favorite of mine; the rice was perfectly savory and sticky and the meat in the middle was delicious\n",
      "5. Guava something (dessert section) - not sure what it was called but it was sort of like a panna cotta and probably my favorite dessert; just delicately sweet, slightly tangy from the guava\n",
      "6. Jasmine rice pudding (dessert section) - warm rice pudding with a drizzle of honey at the bottom; I loved it because it was perfectly sweet and satisfying\n",
      "\n",
      "Strategies to succeed at Bacchanal without exploding your gut:\n",
      "1. If you're trying to taste as much as possible, only take a bite or two of each item...and then pass it over to your friend for her to try (vice versa)! I made the mistake of inhaling one of the custard buns in the beginning because that 50 min wait time had me STARVING. Rookie mistake. That custard bun actually filled me up quite a bit, and drinking all of those carbonated-af mimosas didn't help.\n",
      "2. Wear sweatpants or anything with a stretchy elastic waistband. Two of my friends wore jeans and had to unbutton their pants midway through the meal haha. \n",
      "3. Take a nice loooooong walk around the Strip afterwards. Or go on a leisurely hike or something. You'll feel so much better.\n",
      "\n",
      "So yeah, this was a pretty life-changing meal. I don't think I could do this more than once in a year. By the end of the meal, we all hated ourselves a little (but it was WORTH it). I definitely recommend Bacchanal, the feast for the gods.\n",
      "\n",
      "    5 - \n",
      "oh yes! If you want to go to an amazing BUFFET!... This is where you go to. It has everything under the roof! Asian, Mexican, Seafood, Delicious Desserts! etc.\n",
      "\n",
      "==========\n",
      "Cluster 7:\n",
      "    3 - \n",
      "My boyfriend and I both had high expectations for this buffet, but we left feeling disappointed. We came on a thursday and it was $54.99/person. While there was a very wide variety of food selections, the quality and taste of the food were mediocre. \n",
      "\n",
      "Cons:\n",
      "Seafood section was not fresh at all. Crab legs tasted like they have been in the fridge for a very long time and the flavor was gone. Stone crab was COMPLETELY tasteless. Oysters were fishy and not sweet and creamy at all. Fish was completely overdone. Clams had sand and mussels were fishy. The entire seafood section which we were very looking forward to, was a complete fail. \n",
      "\n",
      "Hint: If you are looking for more flavorful crab legs, head on back to the Italian section, where they steam the crab legs and serve an abundance amount to your plate. These crab legs had so much more flavor than the cold ones at the seafood station. My bf and I both redeemed a little bit of happiness from these crab legs.\n",
      "\n",
      "Pros:\n",
      "Meat section and the soups. I really enjoyed their lamb chops and beef ribs here. The beef rib was one of the highlights of our meal. It was fresh off the grill, crunchy, and sooo flavorful. The lamb chops were a bit overcooked, but flavorful. The prime rib was good and the sausages were good as well. One of my favorites of the buffet was actually the truffle mushroom soup. The mushroom and truffle flavors were strong and the soup was creamy. Delicious. \n",
      "\n",
      "Overall, everything else was just mediocre and not memorable. The sushi section was almost non-existent. If you are looking to get sashimi, this ain't the place for you. Bacchanal is more focused on the large variety of food selection, but totally lacking in taste. We most likely won't come back to this buffet. For $54.99 which is more expensive than other Vegas buffets, we expected a lot better seafood quality!\n",
      "\n",
      "    4 - \n",
      "You won't be disappointed with this buffet. It's different from most buffet. They have some interesting dish. \n",
      "\n",
      "Service: The staff was friendly and nice. \n",
      "\n",
      "Food: I love that they have crab legs, raw oysters and snow crab legs. They have a small selection of sushi though. They have tonkatsu ramen, udon, pho and dimsum. I didn't try these because I didn't want to be full from them. They also have ceviche, tacos, Italian dishes and lamb. Desserts included macaroons, gelato, crepes and a bunch more. Wasn't disappointed at all.\n",
      "\n"
     ]
    }
   ],
   "source": [
    "for i in range(kmeans.n_clusters):\n",
    "    cluster = np.arange(0, vec_all.shape[0])[label_all==i] # index of cluster\n",
    "    sample_reviews = np.random.choice(cluster, 2, replace=False)\n",
    "    print( \"=\" * 10)\n",
    "    print( \"Cluster %d:\" % i)\n",
    "    for review_index in sample_reviews:\n",
    "        print( \"    %s - \" % df_most_reviewed.iloc[review_index]['stars'],)\n",
    "        print( \"%s\" % df_most_reviewed.iloc[review_index]['text'])\n",
    "        print()"
   ]
  },
  {
   "cell_type": "markdown",
   "metadata": {},
   "source": [
    "## 3. Use PCA to reduce dimensionality"
   ]
  },
  {
   "cell_type": "markdown",
   "metadata": {},
   "source": [
    "### Stardardize features\n",
    "Your X_train and X_test"
   ]
  },
  {
   "cell_type": "code",
   "execution_count": 98,
   "metadata": {
    "collapsed": true
   },
   "outputs": [],
   "source": [
    "from sklearn.preprocessing import StandardScaler\n",
    "scaler = StandardScaler()\n",
    "\n",
    "vec_train_scaled = scaler.fit_transform(vec_train.toarray())\n",
    "vec_test_scaled = scaler.transform(vec_test.toarray())"
   ]
  },
  {
   "cell_type": "markdown",
   "metadata": {},
   "source": [
    "### Use PCA to transform data (train and test) and get princial components"
   ]
  },
  {
   "cell_type": "code",
   "execution_count": 99,
   "metadata": {
    "collapsed": true
   },
   "outputs": [],
   "source": [
    "from sklearn.decomposition import PCA\n",
    "\n",
    "pca = PCA(n_components = 50)\n",
    "\n",
    "X_train_pca = pca.fit_transform(vec_train_scaled)\n",
    "\n",
    "X_test_pca = pca.transform(vec_test_scaled)"
   ]
  },
  {
   "cell_type": "markdown",
   "metadata": {},
   "source": [
    "### See how much (and how much percentage of) variance the principal components explain"
   ]
  },
  {
   "cell_type": "code",
   "execution_count": 100,
   "metadata": {},
   "outputs": [
    {
     "data": {
      "text/plain": [
       "array([ 6.52788193,  5.16798403,  3.64351291,  3.45309414,  3.21596252,\n",
       "        3.06231305,  2.99591916,  2.86439987,  2.75211891,  2.6743143 ,\n",
       "        2.63776446,  2.59849769,  2.49085842,  2.41326968,  2.3973794 ,\n",
       "        2.36493926,  2.35930417,  2.3218853 ,  2.29610372,  2.26763199,\n",
       "        2.24457723,  2.22095317,  2.18290301,  2.13444017,  2.11661803,\n",
       "        2.10901345,  2.08898693,  2.08552047,  2.05605245,  2.04175384,\n",
       "        2.02722809,  2.01864416,  1.99400306,  1.97310148,  1.9585679 ,\n",
       "        1.95055639,  1.92649304,  1.91426239,  1.87859102,  1.86738191,\n",
       "        1.86162802,  1.85231169,  1.84193931,  1.82800227,  1.81572748,\n",
       "        1.80173292,  1.77099212,  1.75034697,  1.72759381,  1.72300719])"
      ]
     },
     "execution_count": 100,
     "metadata": {},
     "output_type": "execute_result"
    }
   ],
   "source": [
    "pca.explained_variance_"
   ]
  },
  {
   "cell_type": "code",
   "execution_count": 101,
   "metadata": {},
   "outputs": [
    {
     "data": {
      "text/plain": [
       "array([ 0.01304667,  0.01032877,  0.00728195,  0.00690138,  0.00642744,\n",
       "        0.00612036,  0.00598766,  0.00572481,  0.0055004 ,  0.0053449 ,\n",
       "        0.00527185,  0.00519337,  0.00497825,  0.00482318,  0.00479142,\n",
       "        0.00472658,  0.00471532,  0.00464053,  0.00458901,  0.0045321 ,\n",
       "        0.00448603,  0.00443881,  0.00436276,  0.00426591,  0.00423029,\n",
       "        0.00421509,  0.00417506,  0.00416813,  0.00410924,  0.00408066,\n",
       "        0.00405163,  0.00403447,  0.00398523,  0.00394345,  0.00391441,\n",
       "        0.00389839,  0.0038503 ,  0.00382586,  0.00375456,  0.00373216,\n",
       "        0.00372066,  0.00370204,  0.00368131,  0.00365346,  0.00362892,\n",
       "        0.00360095,  0.00353952,  0.00349825,  0.00345278,  0.00344361])"
      ]
     },
     "execution_count": 101,
     "metadata": {},
     "output_type": "execute_result"
    }
   ],
   "source": [
    "pca.explained_variance_ratio_"
   ]
  },
  {
   "cell_type": "markdown",
   "metadata": {},
   "source": [
    "### Viz: plot proportion of variance explained with top principal components\n",
    "\n",
    "For clear display, you may start with plotting <=20 principal components"
   ]
  },
  {
   "cell_type": "code",
   "execution_count": 105,
   "metadata": {},
   "outputs": [
    {
     "data": {
      "image/png": "[encoded data removed]",
      "text/plain": [
       "<matplotlib.figure.Figure at 0x11cac3cc0>"
      ]
     },
     "metadata": {},
     "output_type": "display_data"
    }
   ],
   "source": [
    "n_col_to_display = 20\n",
    "\n",
    "pca_range = np.arange(n_col_to_display) + 1\n",
    "plt.bar(pca_range,pca.explained_variance_[:n_col_to_display])\n",
    "plt.show()"
   ]
  },
  {
   "cell_type": "markdown",
   "metadata": {},
   "source": [
    "## Classifying positive/negative review with PCA preprocessing"
   ]
  },
  {
   "cell_type": "markdown",
   "metadata": {},
   "source": [
    "### Logistic Regression Classifier\n",
    "#### Use standardized tf-idf vectors as features"
   ]
  },
  {
   "cell_type": "code",
   "execution_count": 109,
   "metadata": {},
   "outputs": [
    {
     "data": {
      "text/plain": [
       "LogisticRegression(C=1.0, class_weight=None, dual=False, fit_intercept=True,\n",
       "          intercept_scaling=1, max_iter=100, multi_class='ovr', n_jobs=1,\n",
       "          penalty='l2', random_state=None, solver='liblinear', tol=0.0001,\n",
       "          verbose=0, warm_start=False)"
      ]
     },
     "execution_count": 109,
     "metadata": {},
     "output_type": "execute_result"
    }
   ],
   "source": [
    "# Build a Logistic Regression Classifier, train with standardized tf-idf vectors\n",
    "\n",
    "from sklearn.linear_model import LogisticRegression\n",
    "\n",
    "lm1 = LogisticRegression()\n",
    "\n",
    "lm1.fit(vec_train_scaled,target_train)"
   ]
  },
  {
   "cell_type": "code",
   "execution_count": 110,
   "metadata": {},
   "outputs": [
    {
     "data": {
      "text/plain": [
       "0.96027874564459925"
      ]
     },
     "execution_count": 110,
     "metadata": {},
     "output_type": "execute_result"
    }
   ],
   "source": [
    "# Get score for training set\n",
    "lm1.score(vec_train_scaled,target_train)"
   ]
  },
  {
   "cell_type": "code",
   "execution_count": 111,
   "metadata": {
    "scrolled": true
   },
   "outputs": [
    {
     "data": {
      "text/plain": [
       "0.7142857142857143"
      ]
     },
     "execution_count": 111,
     "metadata": {},
     "output_type": "execute_result"
    }
   ],
   "source": [
    "# Get score for test set\n",
    "lm1.score(vec_test_scaled,target_test)"
   ]
  },
  {
   "cell_type": "markdown",
   "metadata": {},
   "source": [
    "#### Use (Stardardized + PCA) tf-idf vectors as features"
   ]
  },
  {
   "cell_type": "code",
   "execution_count": 112,
   "metadata": {},
   "outputs": [
    {
     "data": {
      "text/plain": [
       "LogisticRegression(C=1.0, class_weight=None, dual=False, fit_intercept=True,\n",
       "          intercept_scaling=1, max_iter=100, multi_class='ovr', n_jobs=1,\n",
       "          penalty='l2', random_state=None, solver='liblinear', tol=0.0001,\n",
       "          verbose=0, warm_start=False)"
      ]
     },
     "execution_count": 112,
     "metadata": {},
     "output_type": "execute_result"
    }
   ],
   "source": [
    "# Build a Logistic Regression Classifier, train with PCA tranformed X\n",
    "\n",
    "from sklearn.linear_model import LogisticRegression\n",
    "\n",
    "lm2 = LogisticRegression()\n",
    "\n",
    "lm2.fit(X_train_pca,target_train)"
   ]
  },
  {
   "cell_type": "code",
   "execution_count": 113,
   "metadata": {},
   "outputs": [
    {
     "data": {
      "text/plain": [
       "0.79024390243902443"
      ]
     },
     "execution_count": 113,
     "metadata": {},
     "output_type": "execute_result"
    }
   ],
   "source": [
    "# Get score for training set\n",
    "lm2.score(X_train_pca,target_train)"
   ]
  },
  {
   "cell_type": "code",
   "execution_count": 114,
   "metadata": {},
   "outputs": [
    {
     "data": {
      "text/plain": [
       "0.75162337662337664"
      ]
     },
     "execution_count": 114,
     "metadata": {},
     "output_type": "execute_result"
    }
   ],
   "source": [
    "# Get score for test set, REMEMBER to use PCA-transformed X!\n",
    "lm2.score(X_test_pca,target_test)"
   ]
  },
  {
   "cell_type": "markdown",
   "metadata": {},
   "source": [
    "#### Q: What do you see from the training score and the test score? How do you compare the results from PCA and non-PCA preprocessing?"
   ]
  },
  {
   "cell_type": "markdown",
   "metadata": {},
   "source": [
    "A: The test score is lower than the training score with non-PCA preprocessing, it means that the model is overfitting the train data. One possibility is that the "
   ]
  },
  {
   "cell_type": "markdown",
   "metadata": {},
   "source": [
    "#### You can plot the coefficients against principal components\n"
   ]
  },
  {
   "cell_type": "code",
   "execution_count": null,
   "metadata": {
    "collapsed": true
   },
   "outputs": [],
   "source": [
    "# To be implemented\n",
    "pass"
   ]
  },
  {
   "cell_type": "markdown",
   "metadata": {},
   "source": [
    "### Random Forest Classifier\n",
    "#### Use standardized tf-idf vectors as features"
   ]
  },
  {
   "cell_type": "code",
   "execution_count": 118,
   "metadata": {},
   "outputs": [
    {
     "data": {
      "text/plain": [
       "RandomForestClassifier(bootstrap=True, class_weight=None, criterion='gini',\n",
       "            max_depth=None, max_features='auto', max_leaf_nodes=None,\n",
       "            min_impurity_decrease=0.0, min_impurity_split=None,\n",
       "            min_samples_leaf=10, min_samples_split=2,\n",
       "            min_weight_fraction_leaf=0.0, n_estimators=5, n_jobs=1,\n",
       "            oob_score=False, random_state=None, verbose=0,\n",
       "            warm_start=False)"
      ]
     },
     "execution_count": 118,
     "metadata": {},
     "output_type": "execute_result"
    }
   ],
   "source": [
    "# Build a Random Forest Classifier\n",
    "\n",
    "from sklearn.ensemble import RandomForestClassifier\n",
    "\n",
    "rfc = RandomForestClassifier(min_samples_leaf = 10, n_estimators = 5)\n",
    "rfc.fit(X_train_pca, target_train)"
   ]
  },
  {
   "cell_type": "code",
   "execution_count": 119,
   "metadata": {},
   "outputs": [
    {
     "data": {
      "text/plain": [
       "0.85853658536585364"
      ]
     },
     "execution_count": 119,
     "metadata": {},
     "output_type": "execute_result"
    }
   ],
   "source": [
    "# Get score for training set\n",
    "rfc.score(X_train_pca, target_train)"
   ]
  },
  {
   "cell_type": "code",
   "execution_count": 120,
   "metadata": {
    "scrolled": true
   },
   "outputs": [
    {
     "data": {
      "text/plain": [
       "0.74512987012987009"
      ]
     },
     "execution_count": 120,
     "metadata": {},
     "output_type": "execute_result"
    }
   ],
   "source": [
    "# Get score for test set\n",
    "rfc.score(X_test_pca, target_test)"
   ]
  },
  {
   "cell_type": "markdown",
   "metadata": {},
   "source": [
    "#### Use (Stardardized + PCA) tf-idf vectors as features"
   ]
  },
  {
   "cell_type": "code",
   "execution_count": null,
   "metadata": {
    "collapsed": true
   },
   "outputs": [],
   "source": [
    "# Build a Random Forest Classifier\n",
    "\n",
    "from sklearn.ensemble import RandomForestClassifier\n",
    "\n",
    "# To be implemented\n",
    "pass"
   ]
  },
  {
   "cell_type": "code",
   "execution_count": null,
   "metadata": {
    "collapsed": true
   },
   "outputs": [],
   "source": [
    "# Get score for training set\n",
    "pass"
   ]
  },
  {
   "cell_type": "code",
   "execution_count": null,
   "metadata": {
    "collapsed": true
   },
   "outputs": [],
   "source": [
    "# Get score for test set, REMEMBER to use PCA-transformed X!\n",
    "pass"
   ]
  },
  {
   "cell_type": "markdown",
   "metadata": {},
   "source": [
    "#### Q: What do you see from the training result and the test result?"
   ]
  },
  {
   "cell_type": "markdown",
   "metadata": {},
   "source": [
    "A: (insert your comments here)"
   ]
  },
  {
   "cell_type": "markdown",
   "metadata": {},
   "source": [
    "#### You can plot the feature importances against principal components\n"
   ]
  },
  {
   "cell_type": "code",
   "execution_count": 121,
   "metadata": {},
   "outputs": [
    {
     "data": {
      "text/plain": [
       "array([ 0.00629742,  0.10115114,  0.2064963 ,  0.00212923,  0.02918866,\n",
       "        0.02757105,  0.0351269 ,  0.04915237,  0.04327353,  0.01123971,\n",
       "        0.01391356,  0.04512831,  0.02342804,  0.01403116,  0.03327825,\n",
       "        0.01026893,  0.01373458,  0.01733752,  0.        ,  0.01206647,\n",
       "        0.0135188 ,  0.0083514 ,  0.00540016,  0.02484063,  0.00511784,\n",
       "        0.0024995 ,  0.00814041,  0.00230697,  0.00295028,  0.00783991,\n",
       "        0.00886449,  0.00309654,  0.01477022,  0.00745969,  0.01514883,\n",
       "        0.01993177,  0.0077512 ,  0.00649634,  0.00736794,  0.00360487,\n",
       "        0.02105255,  0.01721684,  0.00500144,  0.02035215,  0.00593024,\n",
       "        0.00722321,  0.01140146,  0.02073725,  0.00628351,  0.01453047])"
      ]
     },
     "execution_count": 121,
     "metadata": {},
     "output_type": "execute_result"
    }
   ],
   "source": [
    "rfc.feature_importances_"
   ]
  },
  {
   "cell_type": "code",
   "execution_count": null,
   "metadata": {
    "collapsed": true
   },
   "outputs": [],
   "source": []
  },
  {
   "cell_type": "code",
   "execution_count": null,
   "metadata": {
    "collapsed": true
   },
   "outputs": [],
   "source": []
  },
  {
   "cell_type": "markdown",
   "metadata": {},
   "source": [
    "## Extra Credit #1: Can you cluster restaurants from their category information?\n",
    "Hint: a business may have mutiple categories, e.g. a restaurant can have both \"Restaurants\" and \"Korean\""
   ]
  },
  {
   "cell_type": "markdown",
   "metadata": {
    "collapsed": true
   },
   "source": [
    "If we categorize according to their categories, it's basically equivalent to filtering the data. Is there any actual meaning of doing so?"
   ]
  },
  {
   "cell_type": "markdown",
   "metadata": {},
   "source": [
    "## Extra Credit #2: Can you try different distance/similarity metrics for clusterings, e.g. Pearson correlation, Jaccard distance, etc. \n",
    "\n",
    "Hint: You can take a look at [scipy](http://docs.scipy.org/doc/scipy/reference/generated/scipy.spatial.distance.pdist.html#scipy.spatial.distance.pdist) documentations to use other distances\n",
    "\n",
    "#### Q: How do you compare with Cosine distance or Euclidean distance?"
   ]
  },
  {
   "cell_type": "code",
   "execution_count": null,
   "metadata": {
    "collapsed": true
   },
   "outputs": [],
   "source": [
    "# To be implemented"
   ]
  },
  {
   "cell_type": "markdown",
   "metadata": {},
   "source": [
    "## Extra Credit #3: Can you cluster categories from business entities? What does it mean by a cluster?\n",
    "Hint: Think the example where words can be clustered from the transposed tf-idf matrix."
   ]
  },
  {
   "cell_type": "code",
   "execution_count": null,
   "metadata": {
    "collapsed": true
   },
   "outputs": [],
   "source": [
    "# To be implemented"
   ]
  },
  {
   "cell_type": "markdown",
   "metadata": {},
   "source": [
    "## Extra Credit #4: What are the characteristics of each of the clustered  ? For each cluster, which restaurant can best represent (\"define\") its cluster?\n",
    "Hint: how to interpret \"best\"?"
   ]
  },
  {
   "cell_type": "code",
   "execution_count": null,
   "metadata": {
    "collapsed": true
   },
   "outputs": [],
   "source": [
    "# To be implemented"
   ]
  },
  {
   "cell_type": "markdown",
   "metadata": {},
   "source": [
    "## Extra Credit #5: Can you think of other use cases that clustering can be used? \n",
    "Hint: of course you can make use of other yelp dataset. You can try anything you want as long as you can explain it."
   ]
  },
  {
   "cell_type": "code",
   "execution_count": null,
   "metadata": {
    "collapsed": true
   },
   "outputs": [],
   "source": [
    "# To be implemented"
   ]
  },
  {
   "cell_type": "code",
   "execution_count": null,
   "metadata": {
    "collapsed": true
   },
   "outputs": [],
   "source": []
  }
 ],
 "metadata": {
  "anaconda-cloud": {},
  "kernelspec": {
   "display_name": "Python 3",
   "language": "python",
   "name": "python3"
  },
  "language_info": {
   "codemirror_mode": {
    "name": "ipython",
    "version": 3
   },
   "file_extension": ".py",
   "mimetype": "text/x-python",
   "name": "python",
   "nbconvert_exporter": "python",
   "pygments_lexer": "ipython3",
   "version": "3.5.5"
  }
 },
 "nbformat": 4,
 "nbformat_minor": 1
}

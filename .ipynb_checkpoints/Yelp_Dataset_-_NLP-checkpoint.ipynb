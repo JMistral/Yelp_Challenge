{
 "cells": [
  {
   "cell_type": "markdown",
   "metadata": {},
   "source": [
    "# Yelp Data Challenge - NLP"
   ]
  },
  {
   "cell_type": "code",
   "execution_count": 8,
   "metadata": {},
   "outputs": [],
   "source": [
    "import pandas as pd\n",
    "import numpy as np\n",
    "\n",
    "import matplotlib.pyplot as plt\n",
    "%matplotlib inline"
   ]
  },
  {
   "cell_type": "code",
   "execution_count": 3,
   "metadata": {},
   "outputs": [],
   "source": [
    "df = pd.read_csv('../dataset/2016_restaurant_reviews.csv')"
   ]
  },
  {
   "cell_type": "code",
   "execution_count": 4,
   "metadata": {},
   "outputs": [
    {
     "data": {
      "text/html": [
       "<div>\n",
       "<style scoped>\n",
       "    .dataframe tbody tr th:only-of-type {\n",
       "        vertical-align: middle;\n",
       "    }\n",
       "\n",
       "    .dataframe tbody tr th {\n",
       "        vertical-align: top;\n",
       "    }\n",
       "\n",
       "    .dataframe thead th {\n",
       "        text-align: right;\n",
       "    }\n",
       "</style>\n",
       "<table border=\"1\" class=\"dataframe\">\n",
       "  <thead>\n",
       "    <tr style=\"text-align: right;\">\n",
       "      <th></th>\n",
       "      <th>business_id</th>\n",
       "      <th>name</th>\n",
       "      <th>categories</th>\n",
       "      <th>avg_stars</th>\n",
       "      <th>cool</th>\n",
       "      <th>date</th>\n",
       "      <th>funny</th>\n",
       "      <th>review_id</th>\n",
       "      <th>stars</th>\n",
       "      <th>text</th>\n",
       "      <th>useful</th>\n",
       "      <th>user_id</th>\n",
       "    </tr>\n",
       "  </thead>\n",
       "  <tbody>\n",
       "    <tr>\n",
       "      <th>0</th>\n",
       "      <td>--9e1ONYQuAa-CB_Rrw7Tw</td>\n",
       "      <td>Delmonico Steakhouse</td>\n",
       "      <td>['Cajun/Creole', 'Steakhouses', 'Restaurants']</td>\n",
       "      <td>4.0</td>\n",
       "      <td>0</td>\n",
       "      <td>2016-03-31</td>\n",
       "      <td>0</td>\n",
       "      <td>6SgvNWJltnZhW7duJgZ42w</td>\n",
       "      <td>5</td>\n",
       "      <td>This is mine and my fiancé's favorite steakhou...</td>\n",
       "      <td>0</td>\n",
       "      <td>oFyOUOeGTRZhFPF9uTqrTQ</td>\n",
       "    </tr>\n",
       "    <tr>\n",
       "      <th>1</th>\n",
       "      <td>--9e1ONYQuAa-CB_Rrw7Tw</td>\n",
       "      <td>Delmonico Steakhouse</td>\n",
       "      <td>['Cajun/Creole', 'Steakhouses', 'Restaurants']</td>\n",
       "      <td>4.0</td>\n",
       "      <td>0</td>\n",
       "      <td>2016-02-10</td>\n",
       "      <td>0</td>\n",
       "      <td>UxFpgng8dPMWOj99653k5Q</td>\n",
       "      <td>5</td>\n",
       "      <td>Truly Fantastic!  Best Steak ever. Service was...</td>\n",
       "      <td>0</td>\n",
       "      <td>aVOGlN9fZ-BXcbtj6dbf0g</td>\n",
       "    </tr>\n",
       "    <tr>\n",
       "      <th>2</th>\n",
       "      <td>--9e1ONYQuAa-CB_Rrw7Tw</td>\n",
       "      <td>Delmonico Steakhouse</td>\n",
       "      <td>['Cajun/Creole', 'Steakhouses', 'Restaurants']</td>\n",
       "      <td>4.0</td>\n",
       "      <td>0</td>\n",
       "      <td>2016-07-13</td>\n",
       "      <td>0</td>\n",
       "      <td>GN7KnAaxJDrYgfJzgsvmkA</td>\n",
       "      <td>5</td>\n",
       "      <td>We decided to give Delmonico's a try because w...</td>\n",
       "      <td>0</td>\n",
       "      <td>C6kw0Rny7jZAGjTj0MWA3Q</td>\n",
       "    </tr>\n",
       "    <tr>\n",
       "      <th>3</th>\n",
       "      <td>--9e1ONYQuAa-CB_Rrw7Tw</td>\n",
       "      <td>Delmonico Steakhouse</td>\n",
       "      <td>['Cajun/Creole', 'Steakhouses', 'Restaurants']</td>\n",
       "      <td>4.0</td>\n",
       "      <td>0</td>\n",
       "      <td>2016-04-01</td>\n",
       "      <td>0</td>\n",
       "      <td>i7xD3FY-EaF9O08QL69l5w</td>\n",
       "      <td>5</td>\n",
       "      <td>Absolutely impressed with this restaurant. The...</td>\n",
       "      <td>0</td>\n",
       "      <td>tTifjrXlRrUme-4c0UW9Bw</td>\n",
       "    </tr>\n",
       "    <tr>\n",
       "      <th>4</th>\n",
       "      <td>--9e1ONYQuAa-CB_Rrw7Tw</td>\n",
       "      <td>Delmonico Steakhouse</td>\n",
       "      <td>['Cajun/Creole', 'Steakhouses', 'Restaurants']</td>\n",
       "      <td>4.0</td>\n",
       "      <td>0</td>\n",
       "      <td>2016-10-15</td>\n",
       "      <td>0</td>\n",
       "      <td>ZqMUHOJg9lGOmfqQ7RXj7A</td>\n",
       "      <td>1</td>\n",
       "      <td>This was supposed to be a very special dinner ...</td>\n",
       "      <td>0</td>\n",
       "      <td>kOll36Me-rM9NsqoDnejKA</td>\n",
       "    </tr>\n",
       "  </tbody>\n",
       "</table>\n",
       "</div>"
      ],
      "text/plain": [
       "              business_id                  name  \\\n",
       "0  --9e1ONYQuAa-CB_Rrw7Tw  Delmonico Steakhouse   \n",
       "1  --9e1ONYQuAa-CB_Rrw7Tw  Delmonico Steakhouse   \n",
       "2  --9e1ONYQuAa-CB_Rrw7Tw  Delmonico Steakhouse   \n",
       "3  --9e1ONYQuAa-CB_Rrw7Tw  Delmonico Steakhouse   \n",
       "4  --9e1ONYQuAa-CB_Rrw7Tw  Delmonico Steakhouse   \n",
       "\n",
       "                                       categories  avg_stars  cool  \\\n",
       "0  ['Cajun/Creole', 'Steakhouses', 'Restaurants']        4.0     0   \n",
       "1  ['Cajun/Creole', 'Steakhouses', 'Restaurants']        4.0     0   \n",
       "2  ['Cajun/Creole', 'Steakhouses', 'Restaurants']        4.0     0   \n",
       "3  ['Cajun/Creole', 'Steakhouses', 'Restaurants']        4.0     0   \n",
       "4  ['Cajun/Creole', 'Steakhouses', 'Restaurants']        4.0     0   \n",
       "\n",
       "         date  funny               review_id  stars  \\\n",
       "0  2016-03-31      0  6SgvNWJltnZhW7duJgZ42w      5   \n",
       "1  2016-02-10      0  UxFpgng8dPMWOj99653k5Q      5   \n",
       "2  2016-07-13      0  GN7KnAaxJDrYgfJzgsvmkA      5   \n",
       "3  2016-04-01      0  i7xD3FY-EaF9O08QL69l5w      5   \n",
       "4  2016-10-15      0  ZqMUHOJg9lGOmfqQ7RXj7A      1   \n",
       "\n",
       "                                                text  useful  \\\n",
       "0  This is mine and my fiancé's favorite steakhou...       0   \n",
       "1  Truly Fantastic!  Best Steak ever. Service was...       0   \n",
       "2  We decided to give Delmonico's a try because w...       0   \n",
       "3  Absolutely impressed with this restaurant. The...       0   \n",
       "4  This was supposed to be a very special dinner ...       0   \n",
       "\n",
       "                  user_id  \n",
       "0  oFyOUOeGTRZhFPF9uTqrTQ  \n",
       "1  aVOGlN9fZ-BXcbtj6dbf0g  \n",
       "2  C6kw0Rny7jZAGjTj0MWA3Q  \n",
       "3  tTifjrXlRrUme-4c0UW9Bw  \n",
       "4  kOll36Me-rM9NsqoDnejKA  "
      ]
     },
     "execution_count": 4,
     "metadata": {},
     "output_type": "execute_result"
    }
   ],
   "source": [
    "df.head()"
   ]
  },
  {
   "cell_type": "markdown",
   "metadata": {},
   "source": [
    "### Define feature variables, here is the text of the review"
   ]
  },
  {
   "cell_type": "code",
   "execution_count": 5,
   "metadata": {},
   "outputs": [],
   "source": [
    "# Take the values of the column that contains review text data, save to a variable named \"documents\"\n",
    "documents = [t for i,t in enumerate(df.text)]"
   ]
  },
  {
   "cell_type": "code",
   "execution_count": 6,
   "metadata": {},
   "outputs": [
    {
     "data": {
      "text/plain": [
       "178080"
      ]
     },
     "execution_count": 6,
     "metadata": {},
     "output_type": "execute_result"
    }
   ],
   "source": [
    "# inspect your documents, e.g. check the size, take a peek at elements of the numpy array\n",
    "len(documents)"
   ]
  },
  {
   "cell_type": "markdown",
   "metadata": {},
   "source": [
    "### Define the target variable (any categorical variable that may be meaningful)"
   ]
  },
  {
   "cell_type": "markdown",
   "metadata": {},
   "source": [
    "#### For example, I am interested in perfect (5 stars) and imperfect (1-4 stars) rating"
   ]
  },
  {
   "cell_type": "code",
   "execution_count": 9,
   "metadata": {},
   "outputs": [
    {
     "data": {
      "image/png": "[encoded data removed]",
      "text/plain": [
       "<Figure size 432x288 with 1 Axes>"
      ]
     },
     "metadata": {},
     "output_type": "display_data"
    }
   ],
   "source": [
    "# Make a column and take the values, save to a variable named \"target\"\n",
    "df.target = df.stars\n",
    "\n",
    "plt.hist(df.target)\n",
    "plt.show()"
   ]
  },
  {
   "cell_type": "markdown",
   "metadata": {},
   "source": [
    "## Let's create training dataset and test dataset"
   ]
  },
  {
   "cell_type": "code",
   "execution_count": 10,
   "metadata": {},
   "outputs": [
    {
     "data": {
      "text/plain": [
       "count    178080.000000\n",
       "mean          0.462809\n",
       "std           0.498616\n",
       "min           0.000000\n",
       "25%           0.000000\n",
       "50%           0.000000\n",
       "75%           1.000000\n",
       "max           1.000000\n",
       "Name: stars, dtype: float64"
      ]
     },
     "execution_count": 10,
     "metadata": {},
     "output_type": "execute_result"
    }
   ],
   "source": [
    "# df.target = df.stars.apply(lambda x: 1 if x > 4 else 0)\n",
    "# df.target.describe()"
   ]
  },
  {
   "cell_type": "code",
   "execution_count": 26,
   "metadata": {},
   "outputs": [
    {
     "name": "stderr",
     "output_type": "stream",
     "text": [
      "/Users/jessie/anaconda/lib/python3.6/site-packages/sklearn/cross_validation.py:41: DeprecationWarning: This module was deprecated in version 0.18 in favor of the model_selection module into which all the refactored classes and functions are moved. Also note that the interface of the new CV iterators are different from that of this module. This module will be removed in 0.20.\n",
      "  \"This module will be removed in 0.20.\", DeprecationWarning)\n"
     ]
    }
   ],
   "source": [
    "from sklearn.cross_validation import train_test_split"
   ]
  },
  {
   "cell_type": "code",
   "execution_count": 27,
   "metadata": {
    "collapsed": true
   },
   "outputs": [],
   "source": [
    "# Split to documents_train, documents_test, target_train, target_test\n",
    "documents_train, documents_test, target_train, target_test = train_test_split(\n",
    "     documents, df.stars, test_size=0.33, random_state=42)"
   ]
  },
  {
   "cell_type": "markdown",
   "metadata": {},
   "source": [
    "## Let's get NLP representation of the documents"
   ]
  },
  {
   "cell_type": "code",
   "execution_count": 29,
   "metadata": {
    "collapsed": true
   },
   "outputs": [],
   "source": [
    "from sklearn.feature_extraction.text import TfidfVectorizer"
   ]
  },
  {
   "cell_type": "code",
   "execution_count": 30,
   "metadata": {},
   "outputs": [],
   "source": [
    "# Create TfidfVectorizer, and name it vectorizer\n",
    "vectorizer = TfidfVectorizer(stop_words = 'english', max_features=5000)"
   ]
  },
  {
   "cell_type": "code",
   "execution_count": 37,
   "metadata": {},
   "outputs": [],
   "source": [
    "# Train the model with your training data\n",
    "vectors_train = vectorizer.fit_transform(documents_train)"
   ]
  },
  {
   "cell_type": "code",
   "execution_count": 38,
   "metadata": {},
   "outputs": [],
   "source": [
    "# Get the vocab of your tfidf\n",
    "words = vectorizer.get_feature_names()"
   ]
  },
  {
   "cell_type": "code",
   "execution_count": 34,
   "metadata": {},
   "outputs": [],
   "source": [
    "# Use the trained model to transform your test data\n",
    "vectors_test = vectorizer.transform(documents_test).toarray()"
   ]
  },
  {
   "cell_type": "markdown",
   "metadata": {},
   "source": [
    "## Similar review search engine"
   ]
  },
  {
   "cell_type": "code",
   "execution_count": 88,
   "metadata": {},
   "outputs": [],
   "source": [
    "import numpy as np\n",
    "\n",
    "# We will need these helper methods pretty soon\n",
    "\n",
    "def get_top_values(lst, n, labels):\n",
    "    '''\n",
    "    INPUT: LIST, INTEGER, LIST\n",
    "    OUTPUT: LIST\n",
    "\n",
    "    Given a list of values, find the indices with the highest n values.\n",
    "    Return the labels for each of these indices.\n",
    "\n",
    "    e.g.\n",
    "    lst = [7, 3, 2, 4, 1]\n",
    "    n = 2\n",
    "    labels = [\"cat\", \"dog\", \"mouse\", \"pig\", \"rabbit\"]\n",
    "    output: [\"cat\", \"pig\"]\n",
    "    '''\n",
    "    return [labels[i] for i in np.argsort(lst)[::-1][:n]]  # np.argsort by default sorts values in ascending order\n",
    "\n",
    "def get_bottom_values(lst, n, labels):\n",
    "    '''\n",
    "    INPUT: LIST, INTEGER, LIST\n",
    "    OUTPUT: LIST\n",
    "\n",
    "    Given a list of values, find the indices with the lowest n values.\n",
    "    Return the labels for each of these indices.\n",
    "\n",
    "    e.g.\n",
    "    lst = [7, 3, 2, 4, 1]\n",
    "    n = 2\n",
    "    labels = [\"cat\", \"dog\", \"mouse\", \"pig\", \"rabbit\"]\n",
    "    output: [\"mouse\", \"rabbit\"]\n",
    "    '''\n",
    "    return  [labels[i] for i in np.argsort(lst)[::1][:n]] \n"
   ]
  },
  {
   "cell_type": "code",
   "execution_count": 36,
   "metadata": {
    "collapsed": true
   },
   "outputs": [],
   "source": [
    "# Let's use cosine similarity\n",
    "from sklearn.metrics.pairwise import cosine_similarity"
   ]
  },
  {
   "cell_type": "code",
   "execution_count": 43,
   "metadata": {},
   "outputs": [
    {
     "name": "stderr",
     "output_type": "stream",
     "text": [
      "/Users/jessie/anaconda/lib/python3.6/site-packages/ipykernel/__main__.py:2: VisibleDeprecationWarning: converting an array with ndim > 0 to an index will result in an error in the future\n",
      "  from ipykernel import kernelapp as app\n"
     ]
    }
   ],
   "source": [
    "# Draw an arbitrary review from test (unseen in training) documents\n",
    "doc_test = documents_test[np.random.randint(len(documents_test), size=1)]"
   ]
  },
  {
   "cell_type": "code",
   "execution_count": 50,
   "metadata": {},
   "outputs": [],
   "source": [
    "# Transform the drawn review(s) to vector(s)\n",
    "doc_test_vector = vectorizer.transform([doc_test]).toarray()"
   ]
  },
  {
   "cell_type": "code",
   "execution_count": 51,
   "metadata": {},
   "outputs": [],
   "source": [
    "# Calculate the similarity score(s) between vector(s) and training vectors\n",
    "similarity_scores = cosine_similarity(doc_test_vector, vectors_train.toarray())"
   ]
  },
  {
   "cell_type": "code",
   "execution_count": 61,
   "metadata": {},
   "outputs": [],
   "source": [
    "# Let's find top 5 similar reviews\n",
    "n = 2\n",
    "#np.shape(similarity_scores[0])\n",
    "searched_result = get_top_values(similarity_scores[0], n, documents_train)"
   ]
  },
  {
   "cell_type": "code",
   "execution_count": 63,
   "metadata": {},
   "outputs": [
    {
     "name": "stdout",
     "output_type": "stream",
     "text": [
      "Our search query:\n",
      "Had to come check this place out, I'd never had a fresh White Castle burger and I was not disappointed. I got the 4 cheeseburgers with fries and a drink, it tasted fresh and was nice and hot. The onions were a tasty addition and even though I could only finish three of the burgers and half the fries, it was really tasty! Would definitely go back.\n"
     ]
    }
   ],
   "source": [
    "print ('Our search query:')\n",
    "print (doc_test)"
   ]
  },
  {
   "cell_type": "code",
   "execution_count": 64,
   "metadata": {},
   "outputs": [
    {
     "name": "stdout",
     "output_type": "stream",
     "text": [
      "Most 5 similar reviews:\n",
      "[\"After walking up and down the Strip twice I was craving some White Castle almost as much as Roldy and Kumar!\\n\\nFrom the outside it looked like a tiny standalone but actually the location is inside the Casino Royale.\\n\\nGot the #7 Castle Pack, which was 10 sliders, two regular fries and two drinks.\\n\\nService was good as they got my order out quickly in spite of the place being packed but for my first time eating White Castle burgers at a White Castle I was rather disappointed. \\n\\nThese certainly did not hit the spot! I know sliders don't have much meat but these were practically meatless! And the onions could've tasted a whole lot better. The Fries were meh too as they were a bit soggy.\\n\\nNot gonna lie, I enjoyed the microwave White Castle burgers you get from the grocery better...\", 'After a night of dancing, my friends and I went to White Castle. No regrets.\\n\\nI have had White Castle burgers in the past. From the freezer section at the supermarket. I have always wonder if they are really that, uh, good, in real life. After Tao, we stopped at White Castle and bought the 20 piece combo with fries and chicken rings. Yes, chicken rings. \\n\\nThe verdict: White Castle burgers taste just like the burgers you get out of the freezer aisle. They were pretty damn satisfying and tasty. The fries were good and the chicken rings were definitely questionable. I would definitely go back!', \"Been wanting to venture out to White Castle for about a decade now. Ever since Harold and Kumar made their voyage, I've been anticipating my own. Had a few days off from work and figured it was time to try these burgers fresh, instead of the ones from the frozen food section that I have once in a while.\\n\\nWalking down the strip towards White Castle was awesome and exciting but when I finally pulled out my first slider my excitement faded a bit (not much, it's Vegas!). The bread was very soggy and they tasted about the same as the frozen ones to me. Though these had more cheese. Was expecting a fresh White Castle patty to be tastier. Maybe this just isn't a great location. I'm definitely trying White Castle again if I ever encounter another chain.\\n\\nIf you happen to stop by a White Castle I would firstly advise you not to settle for this and turn away. Vegas has so many better options! What? Sorry! If you're on some quest like me or just dgaf than I'd recommend asking for a toasted bun if you choose to eat here. It is a cool experience to have if you are a fan of the Harold and Kumar movies, but beyond that these burgers are kinda average (both frozen ones and these).\\n\\nWhile the burger itself wasn't what i was hoping for, I was still glad I made the drive to White Castle. It was an experience I knew I wanted to have and though the burgers weren't satisfying, the overall experience was fun. Oh yeah and the fries were meh too. Though crispy. Throw some Cajun Seasoning on them sumbitches or something! Thank God for Ketchup. \\n\\nPros:\\n+ Staff was nice\\n\\nCons:\\n- Bun was very soggy\\n- Fries were bland\\n- Location could have been cleaner (several dirty tables)\", \"For over 30 years I've been hearing about White Castle sliders from those that lived in, or traveled to parts of the country that offered them. Then, after Harold and Kumar made their movie, I truly hoped that one day I would travel to a place in the mid west or eastern parts that had a White Castle Burger joint, or even better, I wished that White Castle would open a store here in Southern California. Sadly, no luck either way. Then voila! I saw them in the frozen section of my local super market. I bought a pack, took them home and immediately nuked a few in the microwave. Not bad I thought to myself. They had a unique flavor with kind of an onion tang. Nevertheless, these were frozen burgers. I knew the freshly made ones had to be better, so I withheld final judgement, and continued to hope for a real experience at a White Castle location.\\n\\nFast forward several years and I'm walking the strip in Las Vegas and the White Castle sign hit my like a ton of bricks! There it  was! Boom! A real deal White Castle burger joint right here in Las Vegas, and right in front of me! I dragged the wife into the place and immediately placed an order for sliders, fries and a drink. So let me get this out of the way first, I don't like krinkle fries. And, the White Castle krinkle fries were no different than any other krinkle fries I've tried. So what did I think of the sliders? They were really tasty and much better than the frozen ones, as I expected them to be. These are truly unique sliders. They are steamed with the onion on the patties. I think that's part of what makes them distinctive.\\n\\nNow, if I'm only judging the slider, in the context of the fast food world of large or popular burger chains, I give it 5 stars considering the under $2 price. I don't smoke weed, but if I did, I could see myself eating a bag of these little morsels after smoking a bowl, just like Harold and Kumar did in the movie. \\n\\nThe slider is the only thing that stood out. Again, I didn't care for the fries, and everything else was just okay. Service was decent, drink fountain was nothing special. Over all, 4 stars for White Castle, mostly because of their famous sliders.\", '西元1921年在堪薩斯州成立的 White Castle ，可是在美國無人不知無人不曉，距今將近一個世紀歷史的 速食 Fast Food 品牌，在近年來也到 賭城 Las Vegas 的賭城大道上開設分店，以全天候二十四小時的開業時間來提供給來自四面八方慕名而來的顧客。比起一般漢堡尺寸小了許多的特色小漢堡（又稱做Slider）不僅是陪伴著許多美國人成長的風味也是美國文化的縮影，在以其為主題的電影 Harold and Kumar Go to White Castle 中就可以感受其風潮與熱度，也是全美第一個以冷凍方式銷售到外州的漢堡。現在不用舟車勞頓前往東岸、也不用屈就於冷凍食物，趁著來到賭城的機會就可以品嚐到這個全美國資歷最深的經典速食風味。\\n\\n作為一個經典的速食品牌，相關的特色與紀念產品相信是許多粉絲們不可錯過的，而料理區就在點餐臺的後方，可以看到這個小漢堡特殊的料理方式，並不是採用一般香煎或火烤方式來料理漢堡肉，而是一種結合蒸煮同時又帶有煎的方式，並讓熱度與蒸氣把洋蔥的香甜味傳達到肉片上。\\n\\n一個小漢堡對一個成年男性來說，不用幾口就可以經鬆解決，特殊的烹煮方式讓品質尚可的肉質吃起來還挺有水分的，加上融化的起司帶來香濃的奶香與洋蔥的甜味，吃起來確實是挺有特色也是居住在加州的居民很少有機會品嚐到的口味。單吃小漢堡說起來並不難吃，但在當前眾多速食漢堡店都強調著食材品質和創新口味的衝擊下，相比起來食感薄弱了不少，但依靠著各種醬料的搭配來調整口位到也是挺有趣的。\\n\\n下次來到賭城，無論是早起的鳥兒、飢腸轆轆的食客、宵夜時間睡不著的夜貓子，都可以來到這間二十四小時經營的經典漢堡店，依照自己的食量來享用這個吃起來感覺不會太有負擔、卻是在美國速食業具有重高地位的可愛小漢堡。']\n"
     ]
    }
   ],
   "source": [
    "print ('Most %s similar reviews:' % n)\n",
    "print  (searched_result)"
   ]
  },
  {
   "cell_type": "markdown",
   "metadata": {},
   "source": [
    "## Classifying positive/negative review"
   ]
  },
  {
   "cell_type": "markdown",
   "metadata": {},
   "source": [
    "#### Naive-Bayes Classifier"
   ]
  },
  {
   "cell_type": "code",
   "execution_count": 65,
   "metadata": {},
   "outputs": [
    {
     "data": {
      "text/plain": [
       "MultinomialNB(alpha=1.0, class_prior=None, fit_prior=True)"
      ]
     },
     "execution_count": 65,
     "metadata": {},
     "output_type": "execute_result"
    }
   ],
   "source": [
    "# Build a Naive-Bayes Classifier\n",
    "\n",
    "from sklearn.naive_bayes import MultinomialNB\n",
    "\n",
    "nbf = MultinomialNB()\n",
    "nbf.fit(vectors_train.toarray(),target_train)"
   ]
  },
  {
   "cell_type": "code",
   "execution_count": 67,
   "metadata": {},
   "outputs": [
    {
     "data": {
      "text/plain": [
       "0.81235194038850844"
      ]
     },
     "execution_count": 67,
     "metadata": {},
     "output_type": "execute_result"
    }
   ],
   "source": [
    "# Get score for training set\n",
    "nbf.score(vectors_train.toarray(),target_train)"
   ]
  },
  {
   "cell_type": "code",
   "execution_count": 68,
   "metadata": {},
   "outputs": [
    {
     "data": {
      "text/plain": [
       "0.80715542778439708"
      ]
     },
     "execution_count": 68,
     "metadata": {},
     "output_type": "execute_result"
    }
   ],
   "source": [
    "# Get score for test set\n",
    "nbf.score(vectors_test,target_test)"
   ]
  },
  {
   "cell_type": "markdown",
   "metadata": {},
   "source": [
    "#### Logistic Regression Classifier"
   ]
  },
  {
   "cell_type": "code",
   "execution_count": 69,
   "metadata": {},
   "outputs": [
    {
     "data": {
      "text/plain": [
       "LogisticRegression(C=1.0, class_weight=None, dual=False, fit_intercept=True,\n",
       "          intercept_scaling=1, max_iter=100, multi_class='ovr', n_jobs=1,\n",
       "          penalty='l2', random_state=None, solver='liblinear', tol=0.0001,\n",
       "          verbose=0, warm_start=False)"
      ]
     },
     "execution_count": 69,
     "metadata": {},
     "output_type": "execute_result"
    }
   ],
   "source": [
    "# Build a Logistic Regression Classifier\n",
    "from sklearn.linear_model import LogisticRegression\n",
    "vectors_train = vectors_train.toarray()\n",
    "\n",
    "lg = LogisticRegression()\n",
    "lg.fit(vectors_train,target_train)"
   ]
  },
  {
   "cell_type": "code",
   "execution_count": 70,
   "metadata": {},
   "outputs": [
    {
     "data": {
      "text/plain": [
       "0.84339061894301592"
      ]
     },
     "execution_count": 70,
     "metadata": {},
     "output_type": "execute_result"
    }
   ],
   "source": [
    "# Get score for training set\n",
    "lg.score(vectors_train,target_train)"
   ]
  },
  {
   "cell_type": "code",
   "execution_count": 71,
   "metadata": {
    "scrolled": true
   },
   "outputs": [
    {
     "data": {
      "text/plain": [
       "0.83342260310658811"
      ]
     },
     "execution_count": 71,
     "metadata": {},
     "output_type": "execute_result"
    }
   ],
   "source": [
    "# Get score for test set\n",
    "lg.score(vectors_test,target_test)"
   ]
  },
  {
   "cell_type": "markdown",
   "metadata": {},
   "source": [
    "#### Q: What are the key features(words) that make the positive prediction?"
   ]
  },
  {
   "cell_type": "code",
   "execution_count": 86,
   "metadata": {},
   "outputs": [
    {
     "data": {
      "text/plain": [
       "['worst',\n",
       " 'horrible',\n",
       " 'ok',\n",
       " 'bland',\n",
       " 'amazing',\n",
       " 'mediocre',\n",
       " 'disappointing',\n",
       " 'rude',\n",
       " 'best',\n",
       " 'terrible',\n",
       " 'okay',\n",
       " 'slow',\n",
       " 'lacked',\n",
       " 'average',\n",
       " 'poor',\n",
       " 'lacking',\n",
       " 'overpriced',\n",
       " 'meh',\n",
       " 'poisoning',\n",
       " 'tasteless']"
      ]
     },
     "execution_count": 86,
     "metadata": {},
     "output_type": "execute_result"
    }
   ],
   "source": [
    "# Let's find it out by ranking\n",
    "n = 20\n",
    "get_top_values(lg.coef_[0],n, words)"
   ]
  },
  {
   "cell_type": "markdown",
   "metadata": {},
   "source": [
    "A: (insert your comments here)"
   ]
  },
  {
   "cell_type": "markdown",
   "metadata": {},
   "source": [
    "#### Q: What are the key features(words) that make the negative prediction?"
   ]
  },
  {
   "cell_type": "code",
   "execution_count": 90,
   "metadata": {},
   "outputs": [
    {
     "data": {
      "text/plain": [
       "['worst',\n",
       " 'horrible',\n",
       " 'ok',\n",
       " 'bland',\n",
       " 'mediocre',\n",
       " 'disappointing',\n",
       " 'rude',\n",
       " 'terrible',\n",
       " 'okay',\n",
       " 'slow',\n",
       " 'lacked',\n",
       " 'average',\n",
       " 'poor',\n",
       " 'lacking',\n",
       " 'overpriced',\n",
       " 'meh',\n",
       " 'poisoning',\n",
       " 'tasteless',\n",
       " 'alright',\n",
       " 'unfortunately']"
      ]
     },
     "execution_count": 90,
     "metadata": {},
     "output_type": "execute_result"
    }
   ],
   "source": [
    "# Let's find it out by ranking\n",
    "n = 20\n",
    "get_bottom_values(lg.coef_[0], n, words)"
   ]
  },
  {
   "cell_type": "markdown",
   "metadata": {},
   "source": [
    "A: (insert your comments here)"
   ]
  },
  {
   "cell_type": "markdown",
   "metadata": {},
   "source": [
    "#### Random Forest Classifier"
   ]
  },
  {
   "cell_type": "code",
   "execution_count": 91,
   "metadata": {},
   "outputs": [
    {
     "data": {
      "text/plain": [
       "RandomForestClassifier(bootstrap=True, class_weight=None, criterion='gini',\n",
       "            max_depth=None, max_features='auto', max_leaf_nodes=None,\n",
       "            min_impurity_decrease=0.0, min_impurity_split=None,\n",
       "            min_samples_leaf=20, min_samples_split=2,\n",
       "            min_weight_fraction_leaf=0.0, n_estimators=5, n_jobs=-1,\n",
       "            oob_score=False, random_state=None, verbose=0,\n",
       "            warm_start=False)"
      ]
     },
     "execution_count": 91,
     "metadata": {},
     "output_type": "execute_result"
    }
   ],
   "source": [
    "# Build a Random Forest Classifier\n",
    "\n",
    "from sklearn.ensemble import RandomForestClassifier\n",
    "\n",
    "rfc = RandomForestClassifier(n_estimators = 5, min_samples_leaf = 20, n_jobs = -1)\n",
    "rfc.fit(vectors_train,target_train)"
   ]
  },
  {
   "cell_type": "code",
   "execution_count": 92,
   "metadata": {},
   "outputs": [
    {
     "data": {
      "text/plain": [
       "0.80161627255890078"
      ]
     },
     "execution_count": 92,
     "metadata": {},
     "output_type": "execute_result"
    }
   ],
   "source": [
    "# Get score for training set\n",
    "rfc.score(vectors_train,target_train)"
   ]
  },
  {
   "cell_type": "code",
   "execution_count": 93,
   "metadata": {},
   "outputs": [
    {
     "data": {
      "text/plain": [
       "0.77830853819835377"
      ]
     },
     "execution_count": 93,
     "metadata": {},
     "output_type": "execute_result"
    }
   ],
   "source": [
    "# Get score for test set\n",
    "rfc.score(vectors_test,target_test)"
   ]
  },
  {
   "cell_type": "markdown",
   "metadata": {},
   "source": [
    "#### Q: What do you see from the training score and the test score?"
   ]
  },
  {
   "cell_type": "markdown",
   "metadata": {},
   "source": [
    "A: The number of estimators is not enough and the prediction score is even less than logistic regression. If we increase the number of estimators, the training time may be much longer but the result is expected to be improved. The test score is lower than the training score, this means that our model doesn't have overfitting problem yet."
   ]
  },
  {
   "cell_type": "markdown",
   "metadata": {},
   "source": [
    "### Important features (words) by inspecting the RFC model"
   ]
  },
  {
   "cell_type": "code",
   "execution_count": 94,
   "metadata": {},
   "outputs": [
    {
     "data": {
      "text/plain": [
       "['amazing',\n",
       " 'delicious',\n",
       " 'like',\n",
       " 'best',\n",
       " 'great',\n",
       " 'asked',\n",
       " 'awesome',\n",
       " 'bad',\n",
       " 'vegas',\n",
       " 'decent',\n",
       " 'didn',\n",
       " 'worst',\n",
       " 'okay',\n",
       " 'love',\n",
       " 'ok',\n",
       " 'order',\n",
       " 'bland',\n",
       " 'rude',\n",
       " 'definitely',\n",
       " 'dry']"
      ]
     },
     "execution_count": 94,
     "metadata": {},
     "output_type": "execute_result"
    }
   ],
   "source": [
    "n = 20\n",
    "get_top_values(rfc.feature_importances_,n,words)"
   ]
  },
  {
   "cell_type": "markdown",
   "metadata": {},
   "source": [
    "## TODO: Use cross validation to evaluate your classifiers\n",
    "\n",
    "[sklearn cross validation](http://scikit-learn.org/stable/modules/cross_validation.html)"
   ]
  },
  {
   "cell_type": "code",
   "execution_count": 11,
   "metadata": {},
   "outputs": [
    {
     "ename": "NameError",
     "evalue": "name 'lg' is not defined",
     "output_type": "error",
     "traceback": [
      "\u001b[0;31m---------------------------------------------------------------------------\u001b[0m",
      "\u001b[0;31mNameError\u001b[0m                                 Traceback (most recent call last)",
      "\u001b[0;32m<ipython-input-11-fa36307bda61>\u001b[0m in \u001b[0;36m<module>\u001b[0;34m()\u001b[0m\n\u001b[1;32m      1\u001b[0m \u001b[0;32mfrom\u001b[0m \u001b[0msklearn\u001b[0m\u001b[0;34m.\u001b[0m\u001b[0mmodel_selection\u001b[0m \u001b[0;32mimport\u001b[0m \u001b[0mcross_val_score\u001b[0m\u001b[0;34m\u001b[0m\u001b[0m\n\u001b[1;32m      2\u001b[0m \u001b[0;34m\u001b[0m\u001b[0m\n\u001b[0;32m----> 3\u001b[0;31m cv_scores = cross_val_score(lg,\n\u001b[0m\u001b[1;32m      4\u001b[0m                             \u001b[0mvectors_train\u001b[0m\u001b[0;34m,\u001b[0m\u001b[0;34m\u001b[0m\u001b[0m\n\u001b[1;32m      5\u001b[0m                             \u001b[0mtarget_train\u001b[0m\u001b[0;34m,\u001b[0m\u001b[0;34m\u001b[0m\u001b[0m\n",
      "\u001b[0;31mNameError\u001b[0m: name 'lg' is not defined"
     ]
    }
   ],
   "source": [
    "from sklearn.model_selection import cross_val_score\n",
    "\n",
    "cv_scores = cross_val_score(lg,\n",
    "                            vectors_train,\n",
    "                            target_train,\n",
    "                            cv = 5,\n",
    "                            scoring=\"accuracy\")\n",
    "cv_scores"
   ]
  },
  {
   "cell_type": "markdown",
   "metadata": {},
   "source": [
    "## TODO: Use grid search to find best predictable classifier\n",
    "\n",
    "\n",
    "[sklearn grid search tutorial (with cross validation)](http://scikit-learn.org/stable/modules/grid_search.html#grid-search)\n",
    "\n",
    "[sklearn grid search documentation (with cross validation)](http://scikit-learn.org/stable/modules/generated/sklearn.model_selection.GridSearchCV.html#sklearn.model_selection.GridSearchCV)"
   ]
  },
  {
   "cell_type": "code",
   "execution_count": null,
   "metadata": {
    "collapsed": true
   },
   "outputs": [],
   "source": [
    "# To be implemented\n"
   ]
  },
  {
   "cell_type": "code",
   "execution_count": null,
   "metadata": {
    "collapsed": true
   },
   "outputs": [],
   "source": []
  }
 ],
 "metadata": {
  "anaconda-cloud": {},
  "kernelspec": {
   "display_name": "Python 3",
   "language": "python",
   "name": "python3"
  },
  "language_info": {
   "codemirror_mode": {
    "name": "ipython",
    "version": 3
   },
   "file_extension": ".py",
   "mimetype": "text/x-python",
   "name": "python",
   "nbconvert_exporter": "python",
   "pygments_lexer": "ipython3",
   "version": "3.5.5"
  }
 },
 "nbformat": 4,
 "nbformat_minor": 1
}
